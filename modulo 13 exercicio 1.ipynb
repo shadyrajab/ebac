{
  "cells": [
    {
      "cell_type": "markdown",
      "metadata": {
        "id": "h1ZM7x7WM7tb"
      },
      "source": [
        "# EBAC - Regressão II - regressão múltipla\n",
        "\n",
        "## Tarefa I"
      ]
    },
    {
      "cell_type": "markdown",
      "metadata": {
        "id": "mAz3Z0yBM7tj"
      },
      "source": [
        "#### Previsão de renda\n",
        "\n",
        "Vamos trabalhar com a base 'previsao_de_renda.csv', que é a base do seu próximo projeto. Vamos usar os recursos que vimos até aqui nesta base.\n",
        "\n",
        "|variavel|descrição|\n",
        "|-|-|\n",
        "|data_ref                | Data de referência de coleta das variáveis |\n",
        "|index                   | Código de identificação do cliente|\n",
        "|sexo                    | Sexo do cliente|\n",
        "|posse_de_veiculo        | Indica se o cliente possui veículo|\n",
        "|posse_de_imovel         | Indica se o cliente possui imóvel|\n",
        "|qtd_filhos              | Quantidade de filhos do cliente|\n",
        "|tipo_renda              | Tipo de renda do cliente|\n",
        "|educacao                | Grau de instrução do cliente|\n",
        "|estado_civil            | Estado civil do cliente|\n",
        "|tipo_residencia         | Tipo de residência do cliente (própria, alugada etc)|\n",
        "|idade                   | Idade do cliente|\n",
        "|tempo_emprego           | Tempo no emprego atual|\n",
        "|qt_pessoas_residencia   | Quantidade de pessoas que moram na residência|\n",
        "|renda                   | Renda em reais|"
      ]
    },
    {
      "cell_type": "code",
      "execution_count": 1,
      "metadata": {
        "id": "2soMUEWCM7tj"
      },
      "outputs": [],
      "source": [
        "import pandas as pd\n",
        "import patsy\n",
        "import numpy as np\n",
        "import matplotlib.pyplot as plt\n",
        "import seaborn as sns\n",
        "import statsmodels.formula.api as smf\n",
        "import statsmodels.api as sm"
      ]
    },
    {
      "cell_type": "code",
      "execution_count": 2,
      "metadata": {
        "id": "229hwW-bM7tk"
      },
      "outputs": [],
      "source": [
        "df = pd.read_csv('previsao_de_renda.csv', index_col=[0])"
      ]
    },
    {
      "cell_type": "code",
      "execution_count": 3,
      "metadata": {
        "colab": {
          "base_uri": "https://localhost:8080/"
        },
        "id": "hzjFjLW4M7tl",
        "outputId": "f7d78287-544a-4408-f150-d4eaa430409c"
      },
      "outputs": [
        {
          "output_type": "stream",
          "name": "stdout",
          "text": [
            "<class 'pandas.core.frame.DataFrame'>\n",
            "Int64Index: 15000 entries, 0 to 14999\n",
            "Data columns (total 14 columns):\n",
            " #   Column                 Non-Null Count  Dtype  \n",
            "---  ------                 --------------  -----  \n",
            " 0   data_ref               15000 non-null  object \n",
            " 1   id_cliente             15000 non-null  int64  \n",
            " 2   sexo                   15000 non-null  object \n",
            " 3   posse_de_veiculo       15000 non-null  bool   \n",
            " 4   posse_de_imovel        15000 non-null  bool   \n",
            " 5   qtd_filhos             15000 non-null  int64  \n",
            " 6   tipo_renda             15000 non-null  object \n",
            " 7   educacao               15000 non-null  object \n",
            " 8   estado_civil           15000 non-null  object \n",
            " 9   tipo_residencia        15000 non-null  object \n",
            " 10  idade                  15000 non-null  int64  \n",
            " 11  tempo_emprego          12427 non-null  float64\n",
            " 12  qt_pessoas_residencia  15000 non-null  float64\n",
            " 13  renda                  15000 non-null  float64\n",
            "dtypes: bool(2), float64(3), int64(3), object(6)\n",
            "memory usage: 1.5+ MB\n"
          ]
        }
      ],
      "source": [
        "df.info()"
      ]
    },
    {
      "cell_type": "markdown",
      "metadata": {
        "id": "ij3p08VYM7tl"
      },
      "source": [
        "1. Ajuste um modelo para prever log(renda) considerando todas as covariáveis disponíveis.\n",
        "    - Utilizando os recursos do Patsy, coloque as variáveis qualitativas como *dummies*.\n",
        "    - Mantenha sempre a categoria mais frequente como casela de referência\n",
        "    - Avalie os parâmetros e veja se parecem fazer sentido prático.\n",
        "\n",
        "2. Remova a variável menos significante e analise:\n",
        "    - Observe os indicadores que vimos, e avalie se o modelo melhorou ou piorou na sua opinião.\n",
        "    - Observe os parâmetros e veja se algum se alterou muito.\n",
        "\n",
        "3. Siga removendo as variáveis menos significantes, sempre que o *p-value* for menor que 5%. Compare o modelo final com o inicial. Observe os indicadores e conclua se o modelo parece melhor.\n",
        "    "
      ]
    },
    {
      "cell_type": "code",
      "source": [
        "df['posse_de_imovel'].value_counts()"
      ],
      "metadata": {
        "colab": {
          "base_uri": "https://localhost:8080/"
        },
        "id": "FNTnn8MTnMMy",
        "outputId": "3c8ec704-4e9f-48da-f38a-df55755f8e02"
      },
      "execution_count": 4,
      "outputs": [
        {
          "output_type": "execute_result",
          "data": {
            "text/plain": [
              "True     10143\n",
              "False     4857\n",
              "Name: posse_de_imovel, dtype: int64"
            ]
          },
          "metadata": {},
          "execution_count": 4
        }
      ]
    },
    {
      "cell_type": "code",
      "source": [
        "patsy.dmatrix('C(posse_de_imovel, Treatment(1))', data=df)"
      ],
      "metadata": {
        "colab": {
          "base_uri": "https://localhost:8080/"
        },
        "id": "CZOogEIDWYDt",
        "outputId": "f66bf61e-5f81-4b23-d55e-2ff23c157e01"
      },
      "execution_count": 5,
      "outputs": [
        {
          "output_type": "execute_result",
          "data": {
            "text/plain": [
              "DesignMatrix with shape (15000, 2)\n",
              "  Intercept  C(posse_de_imovel, Treatment(1))[T.False]\n",
              "          1                                          0\n",
              "          1                                          0\n",
              "          1                                          0\n",
              "          1                                          0\n",
              "          1                                          1\n",
              "          1                                          0\n",
              "          1                                          0\n",
              "          1                                          0\n",
              "          1                                          0\n",
              "          1                                          0\n",
              "          1                                          1\n",
              "          1                                          0\n",
              "          1                                          0\n",
              "          1                                          1\n",
              "          1                                          0\n",
              "          1                                          0\n",
              "          1                                          1\n",
              "          1                                          0\n",
              "          1                                          0\n",
              "          1                                          0\n",
              "          1                                          0\n",
              "          1                                          0\n",
              "          1                                          0\n",
              "          1                                          0\n",
              "          1                                          0\n",
              "          1                                          0\n",
              "          1                                          0\n",
              "          1                                          0\n",
              "          1                                          0\n",
              "          1                                          0\n",
              "  [14970 rows omitted]\n",
              "  Terms:\n",
              "    'Intercept' (column 0)\n",
              "    'C(posse_de_imovel, Treatment(1))' (column 1)\n",
              "  (to view full data, use np.asarray(this_obj))"
            ]
          },
          "metadata": {},
          "execution_count": 5
        }
      ]
    },
    {
      "cell_type": "code",
      "execution_count": 10,
      "metadata": {
        "colab": {
          "base_uri": "https://localhost:8080/"
        },
        "id": "8V1l-HODM7tm",
        "outputId": "61f5d1de-a7ab-4591-ce28-7d679ee00b03"
      },
      "outputs": [
        {
          "output_type": "execute_result",
          "data": {
            "text/plain": [
              "DesignMatrix with shape (12427, 25)\n",
              "  Columns:\n",
              "    ['Intercept',\n",
              "     'C(sexo)[T.M]',\n",
              "     'C(posse_de_veiculo)[T.True]',\n",
              "     'C(posse_de_imovel, Treatment(1))[T.False]',\n",
              "     'C(tipo_renda)[T.Bolsista]',\n",
              "     'C(tipo_renda)[T.Empresário]',\n",
              "     'C(tipo_renda)[T.Pensionista]',\n",
              "     'C(tipo_renda)[T.Servidor público]',\n",
              "     'C(educacao, Treatment(2))[T.Primário]',\n",
              "     'C(educacao, Treatment(2))[T.Pós graduação]',\n",
              "     'C(educacao, Treatment(2))[T.Superior completo]',\n",
              "     'C(educacao, Treatment(2))[T.Superior incompleto]',\n",
              "     'C(estado_civil)[T.Separado]',\n",
              "     'C(estado_civil)[T.Solteiro]',\n",
              "     'C(estado_civil)[T.União]',\n",
              "     'C(estado_civil)[T.Viúvo]',\n",
              "     'C(tipo_residencia, Treatment(1))[T.Aluguel]',\n",
              "     'C(tipo_residencia, Treatment(1))[T.Com os pais]',\n",
              "     'C(tipo_residencia, Treatment(1))[T.Comunitário]',\n",
              "     'C(tipo_residencia, Treatment(1))[T.Estúdio]',\n",
              "     'C(tipo_residencia, Treatment(1))[T.Governamental]',\n",
              "     'qtd_filhos',\n",
              "     'idade',\n",
              "     'tempo_emprego',\n",
              "     'qt_pessoas_residencia']\n",
              "  Terms:\n",
              "    'Intercept' (column 0)\n",
              "    'C(sexo)' (column 1)\n",
              "    'C(posse_de_veiculo)' (column 2)\n",
              "    'C(posse_de_imovel, Treatment(1))' (column 3)\n",
              "    'C(tipo_renda)' (columns 4:8)\n",
              "    'C(educacao, Treatment(2))' (columns 8:12)\n",
              "    'C(estado_civil)' (columns 12:16)\n",
              "    'C(tipo_residencia, Treatment(1))' (columns 16:21)\n",
              "    'qtd_filhos' (column 21)\n",
              "    'idade' (column 22)\n",
              "    'tempo_emprego' (column 23)\n",
              "    'qt_pessoas_residencia' (column 24)\n",
              "  (to view full data, use np.asarray(this_obj))"
            ]
          },
          "metadata": {},
          "execution_count": 10
        }
      ],
      "source": [
        "y, x = patsy.dmatrices('np.log(renda) ~ C(sexo) + C(posse_de_veiculo) + C(posse_de_imovel, Treatment(1)) + C(tipo_renda) + C(educacao, Treatment(2)) + C(estado_civil) + C(tipo_residencia, Treatment(1)) + qtd_filhos + idade + tempo_emprego + qt_pessoas_residencia', data=df)\n",
        "x"
      ]
    },
    {
      "cell_type": "code",
      "source": [
        "sm.OLS(y, x).fit().summary()"
      ],
      "metadata": {
        "colab": {
          "base_uri": "https://localhost:8080/",
          "height": 939
        },
        "id": "JTq_xjLKV_xp",
        "outputId": "4efd2d7e-6dfd-4c5d-fdc7-1ff999cb0d01"
      },
      "execution_count": 11,
      "outputs": [
        {
          "output_type": "execute_result",
          "data": {
            "text/plain": [
              "<class 'statsmodels.iolib.summary.Summary'>\n",
              "\"\"\"\n",
              "                            OLS Regression Results                            \n",
              "==============================================================================\n",
              "Dep. Variable:          np.log(renda)   R-squared:                       0.357\n",
              "Model:                            OLS   Adj. R-squared:                  0.356\n",
              "Method:                 Least Squares   F-statistic:                     287.5\n",
              "Date:                Tue, 25 Jul 2023   Prob (F-statistic):               0.00\n",
              "Time:                        01:25:53   Log-Likelihood:                -13568.\n",
              "No. Observations:               12427   AIC:                         2.719e+04\n",
              "Df Residuals:                   12402   BIC:                         2.737e+04\n",
              "Df Model:                          24                                         \n",
              "Covariance Type:            nonrobust                                         \n",
              "=====================================================================================================================\n",
              "                                                        coef    std err          t      P>|t|      [0.025      0.975]\n",
              "---------------------------------------------------------------------------------------------------------------------\n",
              "Intercept                                             6.6093      0.219     30.214      0.000       6.181       7.038\n",
              "C(sexo)[T.M]                                          0.7874      0.015     53.723      0.000       0.759       0.816\n",
              "C(posse_de_veiculo)[T.True]                           0.0441      0.014      3.119      0.002       0.016       0.072\n",
              "C(posse_de_imovel, Treatment(1))[T.False]            -0.0829      0.014     -5.926      0.000      -0.110      -0.055\n",
              "C(tipo_renda)[T.Bolsista]                             0.2209      0.241      0.916      0.360      -0.252       0.694\n",
              "C(tipo_renda)[T.Empresário]                           0.1551      0.015     10.387      0.000       0.126       0.184\n",
              "C(tipo_renda)[T.Pensionista]                         -0.3087      0.241     -1.280      0.201      -0.782       0.164\n",
              "C(tipo_renda)[T.Servidor público]                     0.0576      0.022      2.591      0.010       0.014       0.101\n",
              "C(educacao, Treatment(2))[T.Primário]                 0.0141      0.072      0.196      0.844      -0.127       0.155\n",
              "C(educacao, Treatment(2))[T.Pós graduação]            0.1212      0.142      0.853      0.394      -0.157       0.400\n",
              "C(educacao, Treatment(2))[T.Superior completo]        0.1079      0.014      7.763      0.000       0.081       0.135\n",
              "C(educacao, Treatment(2))[T.Superior incompleto]     -0.0290      0.032     -0.900      0.368      -0.092       0.034\n",
              "C(estado_civil)[T.Separado]                           0.3265      0.111      2.935      0.003       0.108       0.545\n",
              "C(estado_civil)[T.Solteiro]                           0.2672      0.109      2.453      0.014       0.054       0.481\n",
              "C(estado_civil)[T.União]                             -0.0343      0.025     -1.361      0.174      -0.084       0.015\n",
              "C(estado_civil)[T.Viúvo]                              0.3689      0.116      3.191      0.001       0.142       0.596\n",
              "C(tipo_residencia, Treatment(1))[T.Aluguel]           0.0442      0.054      0.815      0.415      -0.062       0.150\n",
              "C(tipo_residencia, Treatment(1))[T.Com os pais]       0.0184      0.029      0.625      0.532      -0.039       0.076\n",
              "C(tipo_residencia, Treatment(1))[T.Comunitário]      -0.0754      0.091     -0.829      0.407      -0.254       0.103\n",
              "C(tipo_residencia, Treatment(1))[T.Estúdio]           0.1107      0.084      1.319      0.187      -0.054       0.275\n",
              "C(tipo_residencia, Treatment(1))[T.Governamental]    -0.0129      0.039     -0.331      0.741      -0.089       0.064\n",
              "qtd_filhos                                           -0.2658      0.108     -2.463      0.014      -0.477      -0.054\n",
              "idade                                                 0.0053      0.001      6.624      0.000       0.004       0.007\n",
              "tempo_emprego                                         0.0617      0.001     59.398      0.000       0.060       0.064\n",
              "qt_pessoas_residencia                                 0.2926      0.108      2.716      0.007       0.081       0.504\n",
              "==============================================================================\n",
              "Omnibus:                        0.858   Durbin-Watson:                   2.023\n",
              "Prob(Omnibus):                  0.651   Jarque-Bera (JB):                0.839\n",
              "Skew:                           0.019   Prob(JB):                        0.657\n",
              "Kurtosis:                       3.012   Cond. No.                     2.14e+03\n",
              "==============================================================================\n",
              "\n",
              "Notes:\n",
              "[1] Standard Errors assume that the covariance matrix of the errors is correctly specified.\n",
              "[2] The condition number is large, 2.14e+03. This might indicate that there are\n",
              "strong multicollinearity or other numerical problems.\n",
              "\"\"\""
            ],
            "text/html": [
              "<table class=\"simpletable\">\n",
              "<caption>OLS Regression Results</caption>\n",
              "<tr>\n",
              "  <th>Dep. Variable:</th>      <td>np.log(renda)</td>  <th>  R-squared:         </th> <td>   0.357</td> \n",
              "</tr>\n",
              "<tr>\n",
              "  <th>Model:</th>                   <td>OLS</td>       <th>  Adj. R-squared:    </th> <td>   0.356</td> \n",
              "</tr>\n",
              "<tr>\n",
              "  <th>Method:</th>             <td>Least Squares</td>  <th>  F-statistic:       </th> <td>   287.5</td> \n",
              "</tr>\n",
              "<tr>\n",
              "  <th>Date:</th>             <td>Tue, 25 Jul 2023</td> <th>  Prob (F-statistic):</th>  <td>  0.00</td>  \n",
              "</tr>\n",
              "<tr>\n",
              "  <th>Time:</th>                 <td>01:25:53</td>     <th>  Log-Likelihood:    </th> <td> -13568.</td> \n",
              "</tr>\n",
              "<tr>\n",
              "  <th>No. Observations:</th>      <td> 12427</td>      <th>  AIC:               </th> <td>2.719e+04</td>\n",
              "</tr>\n",
              "<tr>\n",
              "  <th>Df Residuals:</th>          <td> 12402</td>      <th>  BIC:               </th> <td>2.737e+04</td>\n",
              "</tr>\n",
              "<tr>\n",
              "  <th>Df Model:</th>              <td>    24</td>      <th>                     </th>     <td> </td>    \n",
              "</tr>\n",
              "<tr>\n",
              "  <th>Covariance Type:</th>      <td>nonrobust</td>    <th>                     </th>     <td> </td>    \n",
              "</tr>\n",
              "</table>\n",
              "<table class=\"simpletable\">\n",
              "<tr>\n",
              "                          <td></td>                             <th>coef</th>     <th>std err</th>      <th>t</th>      <th>P>|t|</th>  <th>[0.025</th>    <th>0.975]</th>  \n",
              "</tr>\n",
              "<tr>\n",
              "  <th>Intercept</th>                                         <td>    6.6093</td> <td>    0.219</td> <td>   30.214</td> <td> 0.000</td> <td>    6.181</td> <td>    7.038</td>\n",
              "</tr>\n",
              "<tr>\n",
              "  <th>C(sexo)[T.M]</th>                                      <td>    0.7874</td> <td>    0.015</td> <td>   53.723</td> <td> 0.000</td> <td>    0.759</td> <td>    0.816</td>\n",
              "</tr>\n",
              "<tr>\n",
              "  <th>C(posse_de_veiculo)[T.True]</th>                       <td>    0.0441</td> <td>    0.014</td> <td>    3.119</td> <td> 0.002</td> <td>    0.016</td> <td>    0.072</td>\n",
              "</tr>\n",
              "<tr>\n",
              "  <th>C(posse_de_imovel, Treatment(1))[T.False]</th>         <td>   -0.0829</td> <td>    0.014</td> <td>   -5.926</td> <td> 0.000</td> <td>   -0.110</td> <td>   -0.055</td>\n",
              "</tr>\n",
              "<tr>\n",
              "  <th>C(tipo_renda)[T.Bolsista]</th>                         <td>    0.2209</td> <td>    0.241</td> <td>    0.916</td> <td> 0.360</td> <td>   -0.252</td> <td>    0.694</td>\n",
              "</tr>\n",
              "<tr>\n",
              "  <th>C(tipo_renda)[T.Empresário]</th>                       <td>    0.1551</td> <td>    0.015</td> <td>   10.387</td> <td> 0.000</td> <td>    0.126</td> <td>    0.184</td>\n",
              "</tr>\n",
              "<tr>\n",
              "  <th>C(tipo_renda)[T.Pensionista]</th>                      <td>   -0.3087</td> <td>    0.241</td> <td>   -1.280</td> <td> 0.201</td> <td>   -0.782</td> <td>    0.164</td>\n",
              "</tr>\n",
              "<tr>\n",
              "  <th>C(tipo_renda)[T.Servidor público]</th>                 <td>    0.0576</td> <td>    0.022</td> <td>    2.591</td> <td> 0.010</td> <td>    0.014</td> <td>    0.101</td>\n",
              "</tr>\n",
              "<tr>\n",
              "  <th>C(educacao, Treatment(2))[T.Primário]</th>             <td>    0.0141</td> <td>    0.072</td> <td>    0.196</td> <td> 0.844</td> <td>   -0.127</td> <td>    0.155</td>\n",
              "</tr>\n",
              "<tr>\n",
              "  <th>C(educacao, Treatment(2))[T.Pós graduação]</th>        <td>    0.1212</td> <td>    0.142</td> <td>    0.853</td> <td> 0.394</td> <td>   -0.157</td> <td>    0.400</td>\n",
              "</tr>\n",
              "<tr>\n",
              "  <th>C(educacao, Treatment(2))[T.Superior completo]</th>    <td>    0.1079</td> <td>    0.014</td> <td>    7.763</td> <td> 0.000</td> <td>    0.081</td> <td>    0.135</td>\n",
              "</tr>\n",
              "<tr>\n",
              "  <th>C(educacao, Treatment(2))[T.Superior incompleto]</th>  <td>   -0.0290</td> <td>    0.032</td> <td>   -0.900</td> <td> 0.368</td> <td>   -0.092</td> <td>    0.034</td>\n",
              "</tr>\n",
              "<tr>\n",
              "  <th>C(estado_civil)[T.Separado]</th>                       <td>    0.3265</td> <td>    0.111</td> <td>    2.935</td> <td> 0.003</td> <td>    0.108</td> <td>    0.545</td>\n",
              "</tr>\n",
              "<tr>\n",
              "  <th>C(estado_civil)[T.Solteiro]</th>                       <td>    0.2672</td> <td>    0.109</td> <td>    2.453</td> <td> 0.014</td> <td>    0.054</td> <td>    0.481</td>\n",
              "</tr>\n",
              "<tr>\n",
              "  <th>C(estado_civil)[T.União]</th>                          <td>   -0.0343</td> <td>    0.025</td> <td>   -1.361</td> <td> 0.174</td> <td>   -0.084</td> <td>    0.015</td>\n",
              "</tr>\n",
              "<tr>\n",
              "  <th>C(estado_civil)[T.Viúvo]</th>                          <td>    0.3689</td> <td>    0.116</td> <td>    3.191</td> <td> 0.001</td> <td>    0.142</td> <td>    0.596</td>\n",
              "</tr>\n",
              "<tr>\n",
              "  <th>C(tipo_residencia, Treatment(1))[T.Aluguel]</th>       <td>    0.0442</td> <td>    0.054</td> <td>    0.815</td> <td> 0.415</td> <td>   -0.062</td> <td>    0.150</td>\n",
              "</tr>\n",
              "<tr>\n",
              "  <th>C(tipo_residencia, Treatment(1))[T.Com os pais]</th>   <td>    0.0184</td> <td>    0.029</td> <td>    0.625</td> <td> 0.532</td> <td>   -0.039</td> <td>    0.076</td>\n",
              "</tr>\n",
              "<tr>\n",
              "  <th>C(tipo_residencia, Treatment(1))[T.Comunitário]</th>   <td>   -0.0754</td> <td>    0.091</td> <td>   -0.829</td> <td> 0.407</td> <td>   -0.254</td> <td>    0.103</td>\n",
              "</tr>\n",
              "<tr>\n",
              "  <th>C(tipo_residencia, Treatment(1))[T.Estúdio]</th>       <td>    0.1107</td> <td>    0.084</td> <td>    1.319</td> <td> 0.187</td> <td>   -0.054</td> <td>    0.275</td>\n",
              "</tr>\n",
              "<tr>\n",
              "  <th>C(tipo_residencia, Treatment(1))[T.Governamental]</th> <td>   -0.0129</td> <td>    0.039</td> <td>   -0.331</td> <td> 0.741</td> <td>   -0.089</td> <td>    0.064</td>\n",
              "</tr>\n",
              "<tr>\n",
              "  <th>qtd_filhos</th>                                        <td>   -0.2658</td> <td>    0.108</td> <td>   -2.463</td> <td> 0.014</td> <td>   -0.477</td> <td>   -0.054</td>\n",
              "</tr>\n",
              "<tr>\n",
              "  <th>idade</th>                                             <td>    0.0053</td> <td>    0.001</td> <td>    6.624</td> <td> 0.000</td> <td>    0.004</td> <td>    0.007</td>\n",
              "</tr>\n",
              "<tr>\n",
              "  <th>tempo_emprego</th>                                     <td>    0.0617</td> <td>    0.001</td> <td>   59.398</td> <td> 0.000</td> <td>    0.060</td> <td>    0.064</td>\n",
              "</tr>\n",
              "<tr>\n",
              "  <th>qt_pessoas_residencia</th>                             <td>    0.2926</td> <td>    0.108</td> <td>    2.716</td> <td> 0.007</td> <td>    0.081</td> <td>    0.504</td>\n",
              "</tr>\n",
              "</table>\n",
              "<table class=\"simpletable\">\n",
              "<tr>\n",
              "  <th>Omnibus:</th>       <td> 0.858</td> <th>  Durbin-Watson:     </th> <td>   2.023</td>\n",
              "</tr>\n",
              "<tr>\n",
              "  <th>Prob(Omnibus):</th> <td> 0.651</td> <th>  Jarque-Bera (JB):  </th> <td>   0.839</td>\n",
              "</tr>\n",
              "<tr>\n",
              "  <th>Skew:</th>          <td> 0.019</td> <th>  Prob(JB):          </th> <td>   0.657</td>\n",
              "</tr>\n",
              "<tr>\n",
              "  <th>Kurtosis:</th>      <td> 3.012</td> <th>  Cond. No.          </th> <td>2.14e+03</td>\n",
              "</tr>\n",
              "</table><br/><br/>Notes:<br/>[1] Standard Errors assume that the covariance matrix of the errors is correctly specified.<br/>[2] The condition number is large, 2.14e+03. This might indicate that there are<br/>strong multicollinearity or other numerical problems."
            ]
          },
          "metadata": {},
          "execution_count": 11
        }
      ]
    },
    {
      "cell_type": "code",
      "source": [
        "y, x = patsy.dmatrices('np.log(renda) ~ C(posse_de_veiculo) + C(tipo_renda) + C(educacao, Treatment(2)) + C(estado_civil) + C(tipo_residencia, Treatment(1))', data=df)\n",
        "x"
      ],
      "metadata": {
        "colab": {
          "base_uri": "https://localhost:8080/"
        },
        "id": "yC7NCGOrWPBf",
        "outputId": "22ed2f8c-2cb5-47d9-a985-54f7e62c7dda"
      },
      "execution_count": 8,
      "outputs": [
        {
          "output_type": "execute_result",
          "data": {
            "text/plain": [
              "DesignMatrix with shape (15000, 19)\n",
              "  Columns:\n",
              "    ['Intercept',\n",
              "     'C(posse_de_veiculo)[T.True]',\n",
              "     'C(tipo_renda)[T.Bolsista]',\n",
              "     'C(tipo_renda)[T.Empresário]',\n",
              "     'C(tipo_renda)[T.Pensionista]',\n",
              "     'C(tipo_renda)[T.Servidor público]',\n",
              "     'C(educacao, Treatment(2))[T.Primário]',\n",
              "     'C(educacao, Treatment(2))[T.Pós graduação]',\n",
              "     'C(educacao, Treatment(2))[T.Superior completo]',\n",
              "     'C(educacao, Treatment(2))[T.Superior incompleto]',\n",
              "     'C(estado_civil)[T.Separado]',\n",
              "     'C(estado_civil)[T.Solteiro]',\n",
              "     'C(estado_civil)[T.União]',\n",
              "     'C(estado_civil)[T.Viúvo]',\n",
              "     'C(tipo_residencia, Treatment(1))[T.Aluguel]',\n",
              "     'C(tipo_residencia, Treatment(1))[T.Com os pais]',\n",
              "     'C(tipo_residencia, Treatment(1))[T.Comunitário]',\n",
              "     'C(tipo_residencia, Treatment(1))[T.Estúdio]',\n",
              "     'C(tipo_residencia, Treatment(1))[T.Governamental]']\n",
              "  Terms:\n",
              "    'Intercept' (column 0)\n",
              "    'C(posse_de_veiculo)' (column 1)\n",
              "    'C(tipo_renda)' (columns 2:6)\n",
              "    'C(educacao, Treatment(2))' (columns 6:10)\n",
              "    'C(estado_civil)' (columns 10:14)\n",
              "    'C(tipo_residencia, Treatment(1))' (columns 14:19)\n",
              "  (to view full data, use np.asarray(this_obj))"
            ]
          },
          "metadata": {},
          "execution_count": 8
        }
      ]
    },
    {
      "cell_type": "code",
      "source": [
        "sm.OLS(y, x).fit().summary()"
      ],
      "metadata": {
        "colab": {
          "base_uri": "https://localhost:8080/",
          "height": 781
        },
        "id": "LXRzjMsowTj8",
        "outputId": "78169b78-933e-488c-c736-a9a11072c406"
      },
      "execution_count": 9,
      "outputs": [
        {
          "output_type": "execute_result",
          "data": {
            "text/plain": [
              "<class 'statsmodels.iolib.summary.Summary'>\n",
              "\"\"\"\n",
              "                            OLS Regression Results                            \n",
              "==============================================================================\n",
              "Dep. Variable:          np.log(renda)   R-squared:                       0.047\n",
              "Model:                            OLS   Adj. R-squared:                  0.046\n",
              "Method:                 Least Squares   F-statistic:                     41.29\n",
              "Date:                Tue, 25 Jul 2023   Prob (F-statistic):          1.98e-142\n",
              "Time:                        01:23:52   Log-Likelihood:                -19061.\n",
              "No. Observations:               15000   AIC:                         3.816e+04\n",
              "Df Residuals:                   14981   BIC:                         3.831e+04\n",
              "Df Model:                          18                                         \n",
              "Covariance Type:            nonrobust                                         \n",
              "=====================================================================================================================\n",
              "                                                        coef    std err          t      P>|t|      [0.025      0.975]\n",
              "---------------------------------------------------------------------------------------------------------------------\n",
              "Intercept                                             8.1472      0.014    581.540      0.000       8.120       8.175\n",
              "C(posse_de_veiculo)[T.True]                           0.2273      0.015     15.287      0.000       0.198       0.256\n",
              "C(tipo_renda)[T.Bolsista]                             0.2378      0.288      0.826      0.409      -0.327       0.803\n",
              "C(tipo_renda)[T.Empresário]                           0.0367      0.018      2.072      0.038       0.002       0.071\n",
              "C(tipo_renda)[T.Pensionista]                         -0.2609      0.020    -12.765      0.000      -0.301      -0.221\n",
              "C(tipo_renda)[T.Servidor público]                     0.1619      0.026      6.148      0.000       0.110       0.213\n",
              "C(educacao, Treatment(2))[T.Primário]                 0.0571      0.068      0.840      0.401      -0.076       0.190\n",
              "C(educacao, Treatment(2))[T.Pós graduação]           -0.1961      0.170     -1.156      0.248      -0.529       0.136\n",
              "C(educacao, Treatment(2))[T.Superior completo]        0.0688      0.015      4.515      0.000       0.039       0.099\n",
              "C(educacao, Treatment(2))[T.Superior incompleto]     -0.1062      0.037     -2.847      0.004      -0.179      -0.033\n",
              "C(estado_civil)[T.Separado]                          -0.0284      0.030     -0.932      0.351      -0.088       0.031\n",
              "C(estado_civil)[T.Solteiro]                          -0.0686      0.022     -3.085      0.002      -0.112      -0.025\n",
              "C(estado_civil)[T.União]                             -0.0968      0.028     -3.492      0.000      -0.151      -0.042\n",
              "C(estado_civil)[T.Viúvo]                             -0.1050      0.034     -3.050      0.002      -0.172      -0.038\n",
              "C(tipo_residencia, Treatment(1))[T.Aluguel]           0.0367      0.063      0.587      0.557      -0.086       0.159\n",
              "C(tipo_residencia, Treatment(1))[T.Com os pais]      -0.1003      0.034     -2.923      0.003      -0.168      -0.033\n",
              "C(tipo_residencia, Treatment(1))[T.Comunitário]      -0.2892      0.109     -2.664      0.008      -0.502      -0.076\n",
              "C(tipo_residencia, Treatment(1))[T.Estúdio]           0.3429      0.095      3.603      0.000       0.156       0.529\n",
              "C(tipo_residencia, Treatment(1))[T.Governamental]    -0.0224      0.041     -0.542      0.588      -0.103       0.059\n",
              "==============================================================================\n",
              "Omnibus:                      253.765   Durbin-Watson:                   2.032\n",
              "Prob(Omnibus):                  0.000   Jarque-Bera (JB):              290.673\n",
              "Skew:                           0.274   Prob(JB):                     7.61e-64\n",
              "Kurtosis:                       3.406   Cond. No.                         49.5\n",
              "==============================================================================\n",
              "\n",
              "Notes:\n",
              "[1] Standard Errors assume that the covariance matrix of the errors is correctly specified.\n",
              "\"\"\""
            ],
            "text/html": [
              "<table class=\"simpletable\">\n",
              "<caption>OLS Regression Results</caption>\n",
              "<tr>\n",
              "  <th>Dep. Variable:</th>      <td>np.log(renda)</td>  <th>  R-squared:         </th> <td>   0.047</td> \n",
              "</tr>\n",
              "<tr>\n",
              "  <th>Model:</th>                   <td>OLS</td>       <th>  Adj. R-squared:    </th> <td>   0.046</td> \n",
              "</tr>\n",
              "<tr>\n",
              "  <th>Method:</th>             <td>Least Squares</td>  <th>  F-statistic:       </th> <td>   41.29</td> \n",
              "</tr>\n",
              "<tr>\n",
              "  <th>Date:</th>             <td>Tue, 25 Jul 2023</td> <th>  Prob (F-statistic):</th> <td>1.98e-142</td>\n",
              "</tr>\n",
              "<tr>\n",
              "  <th>Time:</th>                 <td>01:23:52</td>     <th>  Log-Likelihood:    </th> <td> -19061.</td> \n",
              "</tr>\n",
              "<tr>\n",
              "  <th>No. Observations:</th>      <td> 15000</td>      <th>  AIC:               </th> <td>3.816e+04</td>\n",
              "</tr>\n",
              "<tr>\n",
              "  <th>Df Residuals:</th>          <td> 14981</td>      <th>  BIC:               </th> <td>3.831e+04</td>\n",
              "</tr>\n",
              "<tr>\n",
              "  <th>Df Model:</th>              <td>    18</td>      <th>                     </th>     <td> </td>    \n",
              "</tr>\n",
              "<tr>\n",
              "  <th>Covariance Type:</th>      <td>nonrobust</td>    <th>                     </th>     <td> </td>    \n",
              "</tr>\n",
              "</table>\n",
              "<table class=\"simpletable\">\n",
              "<tr>\n",
              "                          <td></td>                             <th>coef</th>     <th>std err</th>      <th>t</th>      <th>P>|t|</th>  <th>[0.025</th>    <th>0.975]</th>  \n",
              "</tr>\n",
              "<tr>\n",
              "  <th>Intercept</th>                                         <td>    8.1472</td> <td>    0.014</td> <td>  581.540</td> <td> 0.000</td> <td>    8.120</td> <td>    8.175</td>\n",
              "</tr>\n",
              "<tr>\n",
              "  <th>C(posse_de_veiculo)[T.True]</th>                       <td>    0.2273</td> <td>    0.015</td> <td>   15.287</td> <td> 0.000</td> <td>    0.198</td> <td>    0.256</td>\n",
              "</tr>\n",
              "<tr>\n",
              "  <th>C(tipo_renda)[T.Bolsista]</th>                         <td>    0.2378</td> <td>    0.288</td> <td>    0.826</td> <td> 0.409</td> <td>   -0.327</td> <td>    0.803</td>\n",
              "</tr>\n",
              "<tr>\n",
              "  <th>C(tipo_renda)[T.Empresário]</th>                       <td>    0.0367</td> <td>    0.018</td> <td>    2.072</td> <td> 0.038</td> <td>    0.002</td> <td>    0.071</td>\n",
              "</tr>\n",
              "<tr>\n",
              "  <th>C(tipo_renda)[T.Pensionista]</th>                      <td>   -0.2609</td> <td>    0.020</td> <td>  -12.765</td> <td> 0.000</td> <td>   -0.301</td> <td>   -0.221</td>\n",
              "</tr>\n",
              "<tr>\n",
              "  <th>C(tipo_renda)[T.Servidor público]</th>                 <td>    0.1619</td> <td>    0.026</td> <td>    6.148</td> <td> 0.000</td> <td>    0.110</td> <td>    0.213</td>\n",
              "</tr>\n",
              "<tr>\n",
              "  <th>C(educacao, Treatment(2))[T.Primário]</th>             <td>    0.0571</td> <td>    0.068</td> <td>    0.840</td> <td> 0.401</td> <td>   -0.076</td> <td>    0.190</td>\n",
              "</tr>\n",
              "<tr>\n",
              "  <th>C(educacao, Treatment(2))[T.Pós graduação]</th>        <td>   -0.1961</td> <td>    0.170</td> <td>   -1.156</td> <td> 0.248</td> <td>   -0.529</td> <td>    0.136</td>\n",
              "</tr>\n",
              "<tr>\n",
              "  <th>C(educacao, Treatment(2))[T.Superior completo]</th>    <td>    0.0688</td> <td>    0.015</td> <td>    4.515</td> <td> 0.000</td> <td>    0.039</td> <td>    0.099</td>\n",
              "</tr>\n",
              "<tr>\n",
              "  <th>C(educacao, Treatment(2))[T.Superior incompleto]</th>  <td>   -0.1062</td> <td>    0.037</td> <td>   -2.847</td> <td> 0.004</td> <td>   -0.179</td> <td>   -0.033</td>\n",
              "</tr>\n",
              "<tr>\n",
              "  <th>C(estado_civil)[T.Separado]</th>                       <td>   -0.0284</td> <td>    0.030</td> <td>   -0.932</td> <td> 0.351</td> <td>   -0.088</td> <td>    0.031</td>\n",
              "</tr>\n",
              "<tr>\n",
              "  <th>C(estado_civil)[T.Solteiro]</th>                       <td>   -0.0686</td> <td>    0.022</td> <td>   -3.085</td> <td> 0.002</td> <td>   -0.112</td> <td>   -0.025</td>\n",
              "</tr>\n",
              "<tr>\n",
              "  <th>C(estado_civil)[T.União]</th>                          <td>   -0.0968</td> <td>    0.028</td> <td>   -3.492</td> <td> 0.000</td> <td>   -0.151</td> <td>   -0.042</td>\n",
              "</tr>\n",
              "<tr>\n",
              "  <th>C(estado_civil)[T.Viúvo]</th>                          <td>   -0.1050</td> <td>    0.034</td> <td>   -3.050</td> <td> 0.002</td> <td>   -0.172</td> <td>   -0.038</td>\n",
              "</tr>\n",
              "<tr>\n",
              "  <th>C(tipo_residencia, Treatment(1))[T.Aluguel]</th>       <td>    0.0367</td> <td>    0.063</td> <td>    0.587</td> <td> 0.557</td> <td>   -0.086</td> <td>    0.159</td>\n",
              "</tr>\n",
              "<tr>\n",
              "  <th>C(tipo_residencia, Treatment(1))[T.Com os pais]</th>   <td>   -0.1003</td> <td>    0.034</td> <td>   -2.923</td> <td> 0.003</td> <td>   -0.168</td> <td>   -0.033</td>\n",
              "</tr>\n",
              "<tr>\n",
              "  <th>C(tipo_residencia, Treatment(1))[T.Comunitário]</th>   <td>   -0.2892</td> <td>    0.109</td> <td>   -2.664</td> <td> 0.008</td> <td>   -0.502</td> <td>   -0.076</td>\n",
              "</tr>\n",
              "<tr>\n",
              "  <th>C(tipo_residencia, Treatment(1))[T.Estúdio]</th>       <td>    0.3429</td> <td>    0.095</td> <td>    3.603</td> <td> 0.000</td> <td>    0.156</td> <td>    0.529</td>\n",
              "</tr>\n",
              "<tr>\n",
              "  <th>C(tipo_residencia, Treatment(1))[T.Governamental]</th> <td>   -0.0224</td> <td>    0.041</td> <td>   -0.542</td> <td> 0.588</td> <td>   -0.103</td> <td>    0.059</td>\n",
              "</tr>\n",
              "</table>\n",
              "<table class=\"simpletable\">\n",
              "<tr>\n",
              "  <th>Omnibus:</th>       <td>253.765</td> <th>  Durbin-Watson:     </th> <td>   2.032</td>\n",
              "</tr>\n",
              "<tr>\n",
              "  <th>Prob(Omnibus):</th> <td> 0.000</td>  <th>  Jarque-Bera (JB):  </th> <td> 290.673</td>\n",
              "</tr>\n",
              "<tr>\n",
              "  <th>Skew:</th>          <td> 0.274</td>  <th>  Prob(JB):          </th> <td>7.61e-64</td>\n",
              "</tr>\n",
              "<tr>\n",
              "  <th>Kurtosis:</th>      <td> 3.406</td>  <th>  Cond. No.          </th> <td>    49.5</td>\n",
              "</tr>\n",
              "</table><br/><br/>Notes:<br/>[1] Standard Errors assume that the covariance matrix of the errors is correctly specified."
            ]
          },
          "metadata": {},
          "execution_count": 9
        }
      ]
    },
    {
      "cell_type": "markdown",
      "source": [
        "# Aparentemente, o modelo me pareceu pior dado à diminuição do R²"
      ],
      "metadata": {
        "id": "hdrHtVqzqH1u"
      }
    }
  ],
  "metadata": {
    "kernelspec": {
      "display_name": "Python 3",
      "language": "python",
      "name": "python3"
    },
    "language_info": {
      "codemirror_mode": {
        "name": "ipython",
        "version": 3
      },
      "file_extension": ".py",
      "mimetype": "text/x-python",
      "name": "python",
      "nbconvert_exporter": "python",
      "pygments_lexer": "ipython3",
      "version": "3.8.5"
    },
    "colab": {
      "provenance": []
    }
  },
  "nbformat": 4,
  "nbformat_minor": 0
}