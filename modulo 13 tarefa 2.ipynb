{
  "cells": [
    {
      "cell_type": "markdown",
      "metadata": {
        "id": "NFmCUX_zGomJ"
      },
      "source": [
        "# EBAC - Regressão II - regressão múltipla\n",
        "\n",
        "## Tarefa I"
      ]
    },
    {
      "cell_type": "markdown",
      "metadata": {
        "id": "FClPZyRoGomL"
      },
      "source": [
        "#### Previsão de renda II\n",
        "\n",
        "Vamos continuar trabalhando com a base 'previsao_de_renda.csv', que é a base do seu próximo projeto. Vamos usar os recursos que vimos até aqui nesta base.\n",
        "\n",
        "|variavel|descrição|\n",
        "|-|-|\n",
        "|data_ref                | Data de referência de coleta das variáveis |\n",
        "|index                   | Código de identificação do cliente|\n",
        "|sexo                    | Sexo do cliente|\n",
        "|posse_de_veiculo        | Indica se o cliente possui veículo|\n",
        "|posse_de_imovel         | Indica se o cliente possui imóvel|\n",
        "|qtd_filhos              | Quantidade de filhos do cliente|\n",
        "|tipo_renda              | Tipo de renda do cliente|\n",
        "|educacao                | Grau de instrução do cliente|\n",
        "|estado_civil            | Estado civil do cliente|\n",
        "|tipo_residencia         | Tipo de residência do cliente (própria, alugada etc)|\n",
        "|idade                   | Idade do cliente|\n",
        "|tempo_emprego           | Tempo no emprego atual|\n",
        "|qt_pessoas_residencia   | Quantidade de pessoas que moram na residência|\n",
        "|renda                   | Renda em reais|"
      ]
    },
    {
      "cell_type": "code",
      "execution_count": 49,
      "metadata": {
        "id": "BRNU8ZS8GomN"
      },
      "outputs": [],
      "source": [
        "import pandas as pd\n",
        "from sklearn.model_selection import train_test_split\n",
        "import statsmodels.formula.api as smf\n",
        "import statsmodels.api as sm\n",
        "import numpy as np\n",
        "from sklearn import preprocessing\n",
        "from sklearn.tree import DecisionTreeRegressor"
      ]
    },
    {
      "cell_type": "code",
      "execution_count": 3,
      "metadata": {
        "id": "NBeFcVslGomO"
      },
      "outputs": [],
      "source": [
        "df = pd.read_csv('previsao_de_renda.csv', index_col=[0]).drop(['id_cliente', 'data_ref'], axis=1)\n",
        "df.dropna(inplace=True)"
      ]
    },
    {
      "cell_type": "code",
      "execution_count": 4,
      "metadata": {
        "id": "e7W4KXlJGomO",
        "colab": {
          "base_uri": "https://localhost:8080/"
        },
        "outputId": "3b7e7943-5fbb-4fd6-f872-eb2a9c2150c0"
      },
      "outputs": [
        {
          "output_type": "stream",
          "name": "stdout",
          "text": [
            "<class 'pandas.core.frame.DataFrame'>\n",
            "Int64Index: 12427 entries, 0 to 14999\n",
            "Data columns (total 12 columns):\n",
            " #   Column                 Non-Null Count  Dtype  \n",
            "---  ------                 --------------  -----  \n",
            " 0   sexo                   12427 non-null  object \n",
            " 1   posse_de_veiculo       12427 non-null  bool   \n",
            " 2   posse_de_imovel        12427 non-null  bool   \n",
            " 3   qtd_filhos             12427 non-null  int64  \n",
            " 4   tipo_renda             12427 non-null  object \n",
            " 5   educacao               12427 non-null  object \n",
            " 6   estado_civil           12427 non-null  object \n",
            " 7   tipo_residencia        12427 non-null  object \n",
            " 8   idade                  12427 non-null  int64  \n",
            " 9   tempo_emprego          12427 non-null  float64\n",
            " 10  qt_pessoas_residencia  12427 non-null  float64\n",
            " 11  renda                  12427 non-null  float64\n",
            "dtypes: bool(2), float64(3), int64(2), object(5)\n",
            "memory usage: 1.1+ MB\n"
          ]
        }
      ],
      "source": [
        "df.info()"
      ]
    },
    {
      "cell_type": "markdown",
      "metadata": {
        "id": "dT3JTWYZGomP"
      },
      "source": [
        "1. Separe a base em treinamento e teste (25% para teste, 75% para treinamento).\n",
        "2. Rode uma regularização *ridge* com alpha = [0, 0.001, 0.005, 0.01, 0.05, 0.1] e avalie o $R^2$ na base de testes. Qual o melhor modelo?\n",
        "3. Faça o mesmo que no passo 2, com uma regressão *LASSO*. Qual método chega a um melhor resultado?\n",
        "4. Rode um modelo *stepwise*. Avalie o $R^2$ na vase de testes. Qual o melhor resultado?\n",
        "5. Compare os parâmetros e avalie eventuais diferenças. Qual modelo você acha o melhor de todos?\n",
        "6. Partindo dos modelos que você ajustou, tente melhorar o $R^2$ na base de testes. Use a criatividade, veja se consegue inserir alguma transformação ou combinação de variáveis.\n",
        "7. Ajuste uma árvore de regressão e veja se consegue um $R^2$ melhor com ela."
      ]
    },
    {
      "cell_type": "code",
      "execution_count": 5,
      "metadata": {
        "id": "kV4Qso-6GomR"
      },
      "outputs": [],
      "source": [
        "# Separando a base entre treino e teste\n",
        "X_train, X_test = train_test_split(df, test_size=0.25)"
      ]
    },
    {
      "cell_type": "code",
      "source": [
        "# Função para criar os modelos\n",
        "def create_model(alpha, reg_type, data):\n",
        "    model = 'np.log(renda) ~ C(sexo) + C(posse_de_veiculo) + C(posse_de_imovel) + C(tipo_renda) + C(educacao) + C(estado_civil) + C(tipo_residencia) + qt_pessoas_residencia + qtd_filhos + tempo_emprego'\n",
        "    model = smf.ols(model, data)\n",
        "    reg = model.fit_regularized(method='elastic_net', L1_wt=reg_type, alpha=alpha, refit=True)\n",
        "    return reg"
      ],
      "metadata": {
        "id": "fju7uVAuvsE4"
      },
      "execution_count": 6,
      "outputs": []
    },
    {
      "cell_type": "code",
      "source": [
        "alphas = [0, 0.001, 0.005, 0.01, 0.05, 0.1]\n",
        "rsquareds = []"
      ],
      "metadata": {
        "id": "VFhxCiUPuo-Q"
      },
      "execution_count": 7,
      "outputs": []
    },
    {
      "cell_type": "code",
      "source": [
        "# Regularização ridge - Avaliando o melhor alpha\n",
        "\n",
        "for alpha in alphas:\n",
        "  reg = create_model(alpha, 0.01, X_test)\n",
        "  rsquareds.append({alpha: reg.rsquared})"
      ],
      "metadata": {
        "id": "0sWbiNCXJe2X"
      },
      "execution_count": 8,
      "outputs": []
    },
    {
      "cell_type": "code",
      "source": [
        "rsquareds\n",
        "# O alpha que retornou o melhor R² foi o alpha de valor 0"
      ],
      "metadata": {
        "id": "Hp6foMnmvOqP",
        "colab": {
          "base_uri": "https://localhost:8080/"
        },
        "outputId": "17bd0766-5674-478f-aa87-35953848d7e2"
      },
      "execution_count": 9,
      "outputs": [
        {
          "output_type": "execute_result",
          "data": {
            "text/plain": [
              "[{0: 0.3592085250073409},\n",
              " {0.001: 0.35917334602204687},\n",
              " {0.005: 0.3588295201240439},\n",
              " {0.01: 0.3581908004960358},\n",
              " {0.05: 0.35841275956065666},\n",
              " {0.1: 0.35775351688606016}]"
            ]
          },
          "metadata": {},
          "execution_count": 9
        }
      ]
    },
    {
      "cell_type": "code",
      "source": [
        "modelo_final = create_model(0, 0.01, X_test)\n",
        "modelo_final.summary()"
      ],
      "metadata": {
        "id": "Krjr8Dz0OjRx",
        "colab": {
          "base_uri": "https://localhost:8080/",
          "height": 863
        },
        "outputId": "5ce24b76-7e99-462e-9ca0-ff984eaa5908"
      },
      "execution_count": 10,
      "outputs": [
        {
          "output_type": "execute_result",
          "data": {
            "text/plain": [
              "<class 'statsmodels.iolib.summary.Summary'>\n",
              "\"\"\"\n",
              "                            OLS Regression Results                            \n",
              "==============================================================================\n",
              "Dep. Variable:          np.log(renda)   R-squared:                       0.359\n",
              "Model:                            OLS   Adj. R-squared:                  0.355\n",
              "Method:                 Least Squares   F-statistic:                     75.17\n",
              "Date:                Thu, 10 Aug 2023   Prob (F-statistic):          5.13e-277\n",
              "Time:                        20:18:15   Log-Likelihood:                -3341.4\n",
              "No. Observations:                3107   AIC:                             6731.\n",
              "Df Residuals:                    3084   BIC:                             6876.\n",
              "Df Model:                          23                                         \n",
              "Covariance Type:            nonrobust                                         \n",
              "=======================================================================================================\n",
              "                                          coef    std err          t      P>|t|      [0.025      0.975]\n",
              "-------------------------------------------------------------------------------------------------------\n",
              "Intercept                               6.3184      0.514     12.303      0.000       5.311       7.325\n",
              "C(sexo)[T.M]                            0.7734      0.029     26.687      0.000       0.717       0.830\n",
              "C(posse_de_veiculo)[T.True]             0.0507      0.028      1.809      0.071      -0.004       0.106\n",
              "C(posse_de_imovel)[T.True]              0.1040      0.028      3.763      0.000       0.050       0.158\n",
              "C(tipo_renda)[T.Bolsista]               0.3061      0.412      0.742      0.458      -0.502       1.115\n",
              "C(tipo_renda)[T.Empresário]             0.1623      0.030      5.475      0.000       0.104       0.220\n",
              "C(tipo_renda)[T.Servidor público]       0.0139      0.045      0.309      0.757      -0.074       0.102\n",
              "C(educacao)[T.Pós graduação]           -0.0255      0.353     -0.072      0.942      -0.718       0.667\n",
              "C(educacao)[T.Secundário]              -0.1522      0.149     -1.018      0.309      -0.445       0.141\n",
              "C(educacao)[T.Superior completo]       -0.0498      0.150     -0.332      0.740      -0.344       0.244\n",
              "C(educacao)[T.Superior incompleto]     -0.1938      0.159     -1.219      0.223      -0.506       0.118\n",
              "C(estado_civil)[T.Separado]             0.7223      0.244      2.962      0.003       0.244       1.200\n",
              "C(estado_civil)[T.Solteiro]             0.5398      0.241      2.239      0.025       0.067       1.013\n",
              "C(estado_civil)[T.União]               -0.0697      0.050     -1.387      0.166      -0.168       0.029\n",
              "C(estado_civil)[T.Viúvo]                0.6863      0.251      2.731      0.006       0.194       1.179\n",
              "C(tipo_residencia)[T.Casa]             -0.1343      0.120     -1.118      0.263      -0.370       0.101\n",
              "C(tipo_residencia)[T.Com os pais]      -0.1507      0.131     -1.147      0.251      -0.408       0.107\n",
              "C(tipo_residencia)[T.Comunitário]      -0.2492      0.209     -1.193      0.233      -0.659       0.160\n",
              "C(tipo_residencia)[T.Estúdio]          -0.0835      0.206     -0.405      0.685      -0.488       0.321\n",
              "C(tipo_residencia)[T.Governamental]    -0.1441      0.138     -1.042      0.297      -0.415       0.127\n",
              "qt_pessoas_residencia                   0.6253      0.238      2.630      0.009       0.159       1.091\n",
              "qtd_filhos                             -0.6029      0.238     -2.535      0.011      -1.069      -0.137\n",
              "tempo_emprego                           0.0637      0.002     32.255      0.000       0.060       0.068\n",
              "==============================================================================\n",
              "Omnibus:                        0.209   Durbin-Watson:                   1.955\n",
              "Prob(Omnibus):                  0.901   Jarque-Bera (JB):                0.165\n",
              "Skew:                          -0.011   Prob(JB):                        0.921\n",
              "Kurtosis:                       3.028   Cond. No.                         597.\n",
              "==============================================================================\n",
              "\n",
              "Notes:\n",
              "[1] Standard Errors assume that the covariance matrix of the errors is correctly specified.\n",
              "\"\"\""
            ],
            "text/html": [
              "<table class=\"simpletable\">\n",
              "<caption>OLS Regression Results</caption>\n",
              "<tr>\n",
              "  <th>Dep. Variable:</th>      <td>np.log(renda)</td>  <th>  R-squared:         </th> <td>   0.359</td> \n",
              "</tr>\n",
              "<tr>\n",
              "  <th>Model:</th>                   <td>OLS</td>       <th>  Adj. R-squared:    </th> <td>   0.355</td> \n",
              "</tr>\n",
              "<tr>\n",
              "  <th>Method:</th>             <td>Least Squares</td>  <th>  F-statistic:       </th> <td>   75.17</td> \n",
              "</tr>\n",
              "<tr>\n",
              "  <th>Date:</th>             <td>Thu, 10 Aug 2023</td> <th>  Prob (F-statistic):</th> <td>5.13e-277</td>\n",
              "</tr>\n",
              "<tr>\n",
              "  <th>Time:</th>                 <td>20:18:15</td>     <th>  Log-Likelihood:    </th> <td> -3341.4</td> \n",
              "</tr>\n",
              "<tr>\n",
              "  <th>No. Observations:</th>      <td>  3107</td>      <th>  AIC:               </th> <td>   6731.</td> \n",
              "</tr>\n",
              "<tr>\n",
              "  <th>Df Residuals:</th>          <td>  3084</td>      <th>  BIC:               </th> <td>   6876.</td> \n",
              "</tr>\n",
              "<tr>\n",
              "  <th>Df Model:</th>              <td>    23</td>      <th>                     </th>     <td> </td>    \n",
              "</tr>\n",
              "<tr>\n",
              "  <th>Covariance Type:</th>      <td>nonrobust</td>    <th>                     </th>     <td> </td>    \n",
              "</tr>\n",
              "</table>\n",
              "<table class=\"simpletable\">\n",
              "<tr>\n",
              "                   <td></td>                      <th>coef</th>     <th>std err</th>      <th>t</th>      <th>P>|t|</th>  <th>[0.025</th>    <th>0.975]</th>  \n",
              "</tr>\n",
              "<tr>\n",
              "  <th>Intercept</th>                           <td>    6.3184</td> <td>    0.514</td> <td>   12.303</td> <td> 0.000</td> <td>    5.311</td> <td>    7.325</td>\n",
              "</tr>\n",
              "<tr>\n",
              "  <th>C(sexo)[T.M]</th>                        <td>    0.7734</td> <td>    0.029</td> <td>   26.687</td> <td> 0.000</td> <td>    0.717</td> <td>    0.830</td>\n",
              "</tr>\n",
              "<tr>\n",
              "  <th>C(posse_de_veiculo)[T.True]</th>         <td>    0.0507</td> <td>    0.028</td> <td>    1.809</td> <td> 0.071</td> <td>   -0.004</td> <td>    0.106</td>\n",
              "</tr>\n",
              "<tr>\n",
              "  <th>C(posse_de_imovel)[T.True]</th>          <td>    0.1040</td> <td>    0.028</td> <td>    3.763</td> <td> 0.000</td> <td>    0.050</td> <td>    0.158</td>\n",
              "</tr>\n",
              "<tr>\n",
              "  <th>C(tipo_renda)[T.Bolsista]</th>           <td>    0.3061</td> <td>    0.412</td> <td>    0.742</td> <td> 0.458</td> <td>   -0.502</td> <td>    1.115</td>\n",
              "</tr>\n",
              "<tr>\n",
              "  <th>C(tipo_renda)[T.Empresário]</th>         <td>    0.1623</td> <td>    0.030</td> <td>    5.475</td> <td> 0.000</td> <td>    0.104</td> <td>    0.220</td>\n",
              "</tr>\n",
              "<tr>\n",
              "  <th>C(tipo_renda)[T.Servidor público]</th>   <td>    0.0139</td> <td>    0.045</td> <td>    0.309</td> <td> 0.757</td> <td>   -0.074</td> <td>    0.102</td>\n",
              "</tr>\n",
              "<tr>\n",
              "  <th>C(educacao)[T.Pós graduação]</th>        <td>   -0.0255</td> <td>    0.353</td> <td>   -0.072</td> <td> 0.942</td> <td>   -0.718</td> <td>    0.667</td>\n",
              "</tr>\n",
              "<tr>\n",
              "  <th>C(educacao)[T.Secundário]</th>           <td>   -0.1522</td> <td>    0.149</td> <td>   -1.018</td> <td> 0.309</td> <td>   -0.445</td> <td>    0.141</td>\n",
              "</tr>\n",
              "<tr>\n",
              "  <th>C(educacao)[T.Superior completo]</th>    <td>   -0.0498</td> <td>    0.150</td> <td>   -0.332</td> <td> 0.740</td> <td>   -0.344</td> <td>    0.244</td>\n",
              "</tr>\n",
              "<tr>\n",
              "  <th>C(educacao)[T.Superior incompleto]</th>  <td>   -0.1938</td> <td>    0.159</td> <td>   -1.219</td> <td> 0.223</td> <td>   -0.506</td> <td>    0.118</td>\n",
              "</tr>\n",
              "<tr>\n",
              "  <th>C(estado_civil)[T.Separado]</th>         <td>    0.7223</td> <td>    0.244</td> <td>    2.962</td> <td> 0.003</td> <td>    0.244</td> <td>    1.200</td>\n",
              "</tr>\n",
              "<tr>\n",
              "  <th>C(estado_civil)[T.Solteiro]</th>         <td>    0.5398</td> <td>    0.241</td> <td>    2.239</td> <td> 0.025</td> <td>    0.067</td> <td>    1.013</td>\n",
              "</tr>\n",
              "<tr>\n",
              "  <th>C(estado_civil)[T.União]</th>            <td>   -0.0697</td> <td>    0.050</td> <td>   -1.387</td> <td> 0.166</td> <td>   -0.168</td> <td>    0.029</td>\n",
              "</tr>\n",
              "<tr>\n",
              "  <th>C(estado_civil)[T.Viúvo]</th>            <td>    0.6863</td> <td>    0.251</td> <td>    2.731</td> <td> 0.006</td> <td>    0.194</td> <td>    1.179</td>\n",
              "</tr>\n",
              "<tr>\n",
              "  <th>C(tipo_residencia)[T.Casa]</th>          <td>   -0.1343</td> <td>    0.120</td> <td>   -1.118</td> <td> 0.263</td> <td>   -0.370</td> <td>    0.101</td>\n",
              "</tr>\n",
              "<tr>\n",
              "  <th>C(tipo_residencia)[T.Com os pais]</th>   <td>   -0.1507</td> <td>    0.131</td> <td>   -1.147</td> <td> 0.251</td> <td>   -0.408</td> <td>    0.107</td>\n",
              "</tr>\n",
              "<tr>\n",
              "  <th>C(tipo_residencia)[T.Comunitário]</th>   <td>   -0.2492</td> <td>    0.209</td> <td>   -1.193</td> <td> 0.233</td> <td>   -0.659</td> <td>    0.160</td>\n",
              "</tr>\n",
              "<tr>\n",
              "  <th>C(tipo_residencia)[T.Estúdio]</th>       <td>   -0.0835</td> <td>    0.206</td> <td>   -0.405</td> <td> 0.685</td> <td>   -0.488</td> <td>    0.321</td>\n",
              "</tr>\n",
              "<tr>\n",
              "  <th>C(tipo_residencia)[T.Governamental]</th> <td>   -0.1441</td> <td>    0.138</td> <td>   -1.042</td> <td> 0.297</td> <td>   -0.415</td> <td>    0.127</td>\n",
              "</tr>\n",
              "<tr>\n",
              "  <th>qt_pessoas_residencia</th>               <td>    0.6253</td> <td>    0.238</td> <td>    2.630</td> <td> 0.009</td> <td>    0.159</td> <td>    1.091</td>\n",
              "</tr>\n",
              "<tr>\n",
              "  <th>qtd_filhos</th>                          <td>   -0.6029</td> <td>    0.238</td> <td>   -2.535</td> <td> 0.011</td> <td>   -1.069</td> <td>   -0.137</td>\n",
              "</tr>\n",
              "<tr>\n",
              "  <th>tempo_emprego</th>                       <td>    0.0637</td> <td>    0.002</td> <td>   32.255</td> <td> 0.000</td> <td>    0.060</td> <td>    0.068</td>\n",
              "</tr>\n",
              "</table>\n",
              "<table class=\"simpletable\">\n",
              "<tr>\n",
              "  <th>Omnibus:</th>       <td> 0.209</td> <th>  Durbin-Watson:     </th> <td>   1.955</td>\n",
              "</tr>\n",
              "<tr>\n",
              "  <th>Prob(Omnibus):</th> <td> 0.901</td> <th>  Jarque-Bera (JB):  </th> <td>   0.165</td>\n",
              "</tr>\n",
              "<tr>\n",
              "  <th>Skew:</th>          <td>-0.011</td> <th>  Prob(JB):          </th> <td>   0.921</td>\n",
              "</tr>\n",
              "<tr>\n",
              "  <th>Kurtosis:</th>      <td> 3.028</td> <th>  Cond. No.          </th> <td>    597.</td>\n",
              "</tr>\n",
              "</table><br/><br/>Notes:<br/>[1] Standard Errors assume that the covariance matrix of the errors is correctly specified."
            ]
          },
          "metadata": {},
          "execution_count": 10
        }
      ]
    },
    {
      "cell_type": "code",
      "source": [
        "rsquareds_ = []"
      ],
      "metadata": {
        "id": "Fd9dSYelverm"
      },
      "execution_count": 11,
      "outputs": []
    },
    {
      "cell_type": "code",
      "source": [
        "# Regularização LASSO - Avaliando o melhor alpha\n",
        "\n",
        "for alpha in alphas:\n",
        "  reg = create_model(alpha, 1.0, X_test)\n",
        "  rsquareds_.append({alpha: reg.rsquared})"
      ],
      "metadata": {
        "id": "cgPMQZB9Q0kb"
      },
      "execution_count": 12,
      "outputs": []
    },
    {
      "cell_type": "code",
      "source": [
        "rsquareds_"
      ],
      "metadata": {
        "id": "h0MdPw61OxSR",
        "colab": {
          "base_uri": "https://localhost:8080/"
        },
        "outputId": "cf0fbc28-d94c-421a-c8f3-2793f2ebd767"
      },
      "execution_count": 13,
      "outputs": [
        {
          "output_type": "execute_result",
          "data": {
            "text/plain": [
              "[{0: 0.3592085250073409},\n",
              " {0.001: 0.3565597670362646},\n",
              " {0.005: 0.34671406982570585},\n",
              " {0.01: 0.3463974620191105},\n",
              " {0.05: 0.3402329114511926},\n",
              " {0.1: 0.3402329114511926}]"
            ]
          },
          "metadata": {},
          "execution_count": 13
        }
      ]
    },
    {
      "cell_type": "code",
      "source": [
        "# O alpha que retornou o melhor R² foi novamente o alpha de valor 0. Ambos os métodos chegaram no mesmo resultado\n",
        "modelo_final_2 = create_model(0, 1.0, X_test)\n",
        "modelo_final_2.summary()"
      ],
      "metadata": {
        "id": "nHIiz6aFwTWU",
        "colab": {
          "base_uri": "https://localhost:8080/",
          "height": 863
        },
        "outputId": "b95c358c-2553-4731-e209-dcbd0d47e211"
      },
      "execution_count": 14,
      "outputs": [
        {
          "output_type": "execute_result",
          "data": {
            "text/plain": [
              "<class 'statsmodels.iolib.summary.Summary'>\n",
              "\"\"\"\n",
              "                            OLS Regression Results                            \n",
              "==============================================================================\n",
              "Dep. Variable:          np.log(renda)   R-squared:                       0.359\n",
              "Model:                            OLS   Adj. R-squared:                  0.355\n",
              "Method:                 Least Squares   F-statistic:                     75.17\n",
              "Date:                Thu, 10 Aug 2023   Prob (F-statistic):          5.13e-277\n",
              "Time:                        20:18:18   Log-Likelihood:                -3341.4\n",
              "No. Observations:                3107   AIC:                             6731.\n",
              "Df Residuals:                    3084   BIC:                             6876.\n",
              "Df Model:                          23                                         \n",
              "Covariance Type:            nonrobust                                         \n",
              "=======================================================================================================\n",
              "                                          coef    std err          t      P>|t|      [0.025      0.975]\n",
              "-------------------------------------------------------------------------------------------------------\n",
              "Intercept                               6.3184      0.514     12.303      0.000       5.311       7.325\n",
              "C(sexo)[T.M]                            0.7734      0.029     26.687      0.000       0.717       0.830\n",
              "C(posse_de_veiculo)[T.True]             0.0507      0.028      1.809      0.071      -0.004       0.106\n",
              "C(posse_de_imovel)[T.True]              0.1040      0.028      3.763      0.000       0.050       0.158\n",
              "C(tipo_renda)[T.Bolsista]               0.3061      0.412      0.742      0.458      -0.502       1.115\n",
              "C(tipo_renda)[T.Empresário]             0.1623      0.030      5.475      0.000       0.104       0.220\n",
              "C(tipo_renda)[T.Servidor público]       0.0139      0.045      0.309      0.757      -0.074       0.102\n",
              "C(educacao)[T.Pós graduação]           -0.0255      0.353     -0.072      0.942      -0.718       0.667\n",
              "C(educacao)[T.Secundário]              -0.1522      0.149     -1.018      0.309      -0.445       0.141\n",
              "C(educacao)[T.Superior completo]       -0.0498      0.150     -0.332      0.740      -0.344       0.244\n",
              "C(educacao)[T.Superior incompleto]     -0.1938      0.159     -1.219      0.223      -0.506       0.118\n",
              "C(estado_civil)[T.Separado]             0.7223      0.244      2.962      0.003       0.244       1.200\n",
              "C(estado_civil)[T.Solteiro]             0.5398      0.241      2.239      0.025       0.067       1.013\n",
              "C(estado_civil)[T.União]               -0.0697      0.050     -1.387      0.166      -0.168       0.029\n",
              "C(estado_civil)[T.Viúvo]                0.6863      0.251      2.731      0.006       0.194       1.179\n",
              "C(tipo_residencia)[T.Casa]             -0.1343      0.120     -1.118      0.263      -0.370       0.101\n",
              "C(tipo_residencia)[T.Com os pais]      -0.1507      0.131     -1.147      0.251      -0.408       0.107\n",
              "C(tipo_residencia)[T.Comunitário]      -0.2492      0.209     -1.193      0.233      -0.659       0.160\n",
              "C(tipo_residencia)[T.Estúdio]          -0.0835      0.206     -0.405      0.685      -0.488       0.321\n",
              "C(tipo_residencia)[T.Governamental]    -0.1441      0.138     -1.042      0.297      -0.415       0.127\n",
              "qt_pessoas_residencia                   0.6253      0.238      2.630      0.009       0.159       1.091\n",
              "qtd_filhos                             -0.6029      0.238     -2.535      0.011      -1.069      -0.137\n",
              "tempo_emprego                           0.0637      0.002     32.255      0.000       0.060       0.068\n",
              "==============================================================================\n",
              "Omnibus:                        0.209   Durbin-Watson:                   1.955\n",
              "Prob(Omnibus):                  0.901   Jarque-Bera (JB):                0.165\n",
              "Skew:                          -0.011   Prob(JB):                        0.921\n",
              "Kurtosis:                       3.028   Cond. No.                         597.\n",
              "==============================================================================\n",
              "\n",
              "Notes:\n",
              "[1] Standard Errors assume that the covariance matrix of the errors is correctly specified.\n",
              "\"\"\""
            ],
            "text/html": [
              "<table class=\"simpletable\">\n",
              "<caption>OLS Regression Results</caption>\n",
              "<tr>\n",
              "  <th>Dep. Variable:</th>      <td>np.log(renda)</td>  <th>  R-squared:         </th> <td>   0.359</td> \n",
              "</tr>\n",
              "<tr>\n",
              "  <th>Model:</th>                   <td>OLS</td>       <th>  Adj. R-squared:    </th> <td>   0.355</td> \n",
              "</tr>\n",
              "<tr>\n",
              "  <th>Method:</th>             <td>Least Squares</td>  <th>  F-statistic:       </th> <td>   75.17</td> \n",
              "</tr>\n",
              "<tr>\n",
              "  <th>Date:</th>             <td>Thu, 10 Aug 2023</td> <th>  Prob (F-statistic):</th> <td>5.13e-277</td>\n",
              "</tr>\n",
              "<tr>\n",
              "  <th>Time:</th>                 <td>20:18:18</td>     <th>  Log-Likelihood:    </th> <td> -3341.4</td> \n",
              "</tr>\n",
              "<tr>\n",
              "  <th>No. Observations:</th>      <td>  3107</td>      <th>  AIC:               </th> <td>   6731.</td> \n",
              "</tr>\n",
              "<tr>\n",
              "  <th>Df Residuals:</th>          <td>  3084</td>      <th>  BIC:               </th> <td>   6876.</td> \n",
              "</tr>\n",
              "<tr>\n",
              "  <th>Df Model:</th>              <td>    23</td>      <th>                     </th>     <td> </td>    \n",
              "</tr>\n",
              "<tr>\n",
              "  <th>Covariance Type:</th>      <td>nonrobust</td>    <th>                     </th>     <td> </td>    \n",
              "</tr>\n",
              "</table>\n",
              "<table class=\"simpletable\">\n",
              "<tr>\n",
              "                   <td></td>                      <th>coef</th>     <th>std err</th>      <th>t</th>      <th>P>|t|</th>  <th>[0.025</th>    <th>0.975]</th>  \n",
              "</tr>\n",
              "<tr>\n",
              "  <th>Intercept</th>                           <td>    6.3184</td> <td>    0.514</td> <td>   12.303</td> <td> 0.000</td> <td>    5.311</td> <td>    7.325</td>\n",
              "</tr>\n",
              "<tr>\n",
              "  <th>C(sexo)[T.M]</th>                        <td>    0.7734</td> <td>    0.029</td> <td>   26.687</td> <td> 0.000</td> <td>    0.717</td> <td>    0.830</td>\n",
              "</tr>\n",
              "<tr>\n",
              "  <th>C(posse_de_veiculo)[T.True]</th>         <td>    0.0507</td> <td>    0.028</td> <td>    1.809</td> <td> 0.071</td> <td>   -0.004</td> <td>    0.106</td>\n",
              "</tr>\n",
              "<tr>\n",
              "  <th>C(posse_de_imovel)[T.True]</th>          <td>    0.1040</td> <td>    0.028</td> <td>    3.763</td> <td> 0.000</td> <td>    0.050</td> <td>    0.158</td>\n",
              "</tr>\n",
              "<tr>\n",
              "  <th>C(tipo_renda)[T.Bolsista]</th>           <td>    0.3061</td> <td>    0.412</td> <td>    0.742</td> <td> 0.458</td> <td>   -0.502</td> <td>    1.115</td>\n",
              "</tr>\n",
              "<tr>\n",
              "  <th>C(tipo_renda)[T.Empresário]</th>         <td>    0.1623</td> <td>    0.030</td> <td>    5.475</td> <td> 0.000</td> <td>    0.104</td> <td>    0.220</td>\n",
              "</tr>\n",
              "<tr>\n",
              "  <th>C(tipo_renda)[T.Servidor público]</th>   <td>    0.0139</td> <td>    0.045</td> <td>    0.309</td> <td> 0.757</td> <td>   -0.074</td> <td>    0.102</td>\n",
              "</tr>\n",
              "<tr>\n",
              "  <th>C(educacao)[T.Pós graduação]</th>        <td>   -0.0255</td> <td>    0.353</td> <td>   -0.072</td> <td> 0.942</td> <td>   -0.718</td> <td>    0.667</td>\n",
              "</tr>\n",
              "<tr>\n",
              "  <th>C(educacao)[T.Secundário]</th>           <td>   -0.1522</td> <td>    0.149</td> <td>   -1.018</td> <td> 0.309</td> <td>   -0.445</td> <td>    0.141</td>\n",
              "</tr>\n",
              "<tr>\n",
              "  <th>C(educacao)[T.Superior completo]</th>    <td>   -0.0498</td> <td>    0.150</td> <td>   -0.332</td> <td> 0.740</td> <td>   -0.344</td> <td>    0.244</td>\n",
              "</tr>\n",
              "<tr>\n",
              "  <th>C(educacao)[T.Superior incompleto]</th>  <td>   -0.1938</td> <td>    0.159</td> <td>   -1.219</td> <td> 0.223</td> <td>   -0.506</td> <td>    0.118</td>\n",
              "</tr>\n",
              "<tr>\n",
              "  <th>C(estado_civil)[T.Separado]</th>         <td>    0.7223</td> <td>    0.244</td> <td>    2.962</td> <td> 0.003</td> <td>    0.244</td> <td>    1.200</td>\n",
              "</tr>\n",
              "<tr>\n",
              "  <th>C(estado_civil)[T.Solteiro]</th>         <td>    0.5398</td> <td>    0.241</td> <td>    2.239</td> <td> 0.025</td> <td>    0.067</td> <td>    1.013</td>\n",
              "</tr>\n",
              "<tr>\n",
              "  <th>C(estado_civil)[T.União]</th>            <td>   -0.0697</td> <td>    0.050</td> <td>   -1.387</td> <td> 0.166</td> <td>   -0.168</td> <td>    0.029</td>\n",
              "</tr>\n",
              "<tr>\n",
              "  <th>C(estado_civil)[T.Viúvo]</th>            <td>    0.6863</td> <td>    0.251</td> <td>    2.731</td> <td> 0.006</td> <td>    0.194</td> <td>    1.179</td>\n",
              "</tr>\n",
              "<tr>\n",
              "  <th>C(tipo_residencia)[T.Casa]</th>          <td>   -0.1343</td> <td>    0.120</td> <td>   -1.118</td> <td> 0.263</td> <td>   -0.370</td> <td>    0.101</td>\n",
              "</tr>\n",
              "<tr>\n",
              "  <th>C(tipo_residencia)[T.Com os pais]</th>   <td>   -0.1507</td> <td>    0.131</td> <td>   -1.147</td> <td> 0.251</td> <td>   -0.408</td> <td>    0.107</td>\n",
              "</tr>\n",
              "<tr>\n",
              "  <th>C(tipo_residencia)[T.Comunitário]</th>   <td>   -0.2492</td> <td>    0.209</td> <td>   -1.193</td> <td> 0.233</td> <td>   -0.659</td> <td>    0.160</td>\n",
              "</tr>\n",
              "<tr>\n",
              "  <th>C(tipo_residencia)[T.Estúdio]</th>       <td>   -0.0835</td> <td>    0.206</td> <td>   -0.405</td> <td> 0.685</td> <td>   -0.488</td> <td>    0.321</td>\n",
              "</tr>\n",
              "<tr>\n",
              "  <th>C(tipo_residencia)[T.Governamental]</th> <td>   -0.1441</td> <td>    0.138</td> <td>   -1.042</td> <td> 0.297</td> <td>   -0.415</td> <td>    0.127</td>\n",
              "</tr>\n",
              "<tr>\n",
              "  <th>qt_pessoas_residencia</th>               <td>    0.6253</td> <td>    0.238</td> <td>    2.630</td> <td> 0.009</td> <td>    0.159</td> <td>    1.091</td>\n",
              "</tr>\n",
              "<tr>\n",
              "  <th>qtd_filhos</th>                          <td>   -0.6029</td> <td>    0.238</td> <td>   -2.535</td> <td> 0.011</td> <td>   -1.069</td> <td>   -0.137</td>\n",
              "</tr>\n",
              "<tr>\n",
              "  <th>tempo_emprego</th>                       <td>    0.0637</td> <td>    0.002</td> <td>   32.255</td> <td> 0.000</td> <td>    0.060</td> <td>    0.068</td>\n",
              "</tr>\n",
              "</table>\n",
              "<table class=\"simpletable\">\n",
              "<tr>\n",
              "  <th>Omnibus:</th>       <td> 0.209</td> <th>  Durbin-Watson:     </th> <td>   1.955</td>\n",
              "</tr>\n",
              "<tr>\n",
              "  <th>Prob(Omnibus):</th> <td> 0.901</td> <th>  Jarque-Bera (JB):  </th> <td>   0.165</td>\n",
              "</tr>\n",
              "<tr>\n",
              "  <th>Skew:</th>          <td>-0.011</td> <th>  Prob(JB):          </th> <td>   0.921</td>\n",
              "</tr>\n",
              "<tr>\n",
              "  <th>Kurtosis:</th>      <td> 3.028</td> <th>  Cond. No.          </th> <td>    597.</td>\n",
              "</tr>\n",
              "</table><br/><br/>Notes:<br/>[1] Standard Errors assume that the covariance matrix of the errors is correctly specified."
            ]
          },
          "metadata": {},
          "execution_count": 14
        }
      ]
    },
    {
      "cell_type": "code",
      "source": [
        "df_dm = pd.get_dummies(df)\n",
        "y = df_dm['renda']\n",
        "X = df_dm.drop('renda', axis=1)\n",
        "X_train, X_test, y_train, y_test = train_test_split(X, y, test_size=0.25)"
      ],
      "metadata": {
        "id": "-8LwfC5jSjCC"
      },
      "execution_count": 15,
      "outputs": []
    },
    {
      "cell_type": "code",
      "source": [
        "# Regressão stepwise\n",
        "model = 'np.log(renda) ~ C(sexo) + C(posse_de_veiculo) + C(posse_de_imovel) + C(tipo_renda) + C(educacao) + C(estado_civil) + C(tipo_residencia) + qt_pessoas_residencia + qtd_filhos + tempo_emprego'\n",
        "st_reg = sm.OLS(y_test.astype(float), X_test.astype(float), model).fit()"
      ],
      "metadata": {
        "id": "eJWCv9W7PwkT"
      },
      "execution_count": 20,
      "outputs": []
    },
    {
      "cell_type": "code",
      "source": [
        "st_reg.summary()"
      ],
      "metadata": {
        "id": "qqw7gOUJRuir",
        "colab": {
          "base_uri": "https://localhost:8080/",
          "height": 1000
        },
        "outputId": "afbd2c23-6c18-4498-ff00-d5460625114f"
      },
      "execution_count": 21,
      "outputs": [
        {
          "output_type": "execute_result",
          "data": {
            "text/plain": [
              "<class 'statsmodels.iolib.summary.Summary'>\n",
              "\"\"\"\n",
              "                            OLS Regression Results                            \n",
              "==============================================================================\n",
              "Dep. Variable:                  renda   R-squared:                       0.270\n",
              "Model:                            OLS   Adj. R-squared:                  0.265\n",
              "Method:                 Least Squares   F-statistic:                     47.59\n",
              "Date:                Thu, 10 Aug 2023   Prob (F-statistic):          1.81e-190\n",
              "Time:                        20:21:44   Log-Likelihood:                -31924.\n",
              "No. Observations:                3107   AIC:                         6.390e+04\n",
              "Df Residuals:                    3082   BIC:                         6.405e+04\n",
              "Df Model:                          24                                         \n",
              "Covariance Type:            nonrobust                                         \n",
              "=================================================================================================\n",
              "                                    coef    std err          t      P>|t|      [0.025      0.975]\n",
              "-------------------------------------------------------------------------------------------------\n",
              "posse_de_veiculo                553.0579    276.469      2.000      0.046      10.976    1095.140\n",
              "posse_de_imovel                 302.1051    273.988      1.103      0.270    -235.112     839.322\n",
              "qtd_filhos                     -652.0644   1965.759     -0.332      0.740   -4506.394    3202.265\n",
              "idade                            35.4593     15.857      2.236      0.025       4.368      66.550\n",
              "tempo_emprego                   509.0392     20.270     25.113      0.000     469.296     548.783\n",
              "qt_pessoas_residencia           616.8992   1958.502      0.315      0.753   -3223.203    4457.001\n",
              "sexo_F                        -3045.5169   1241.670     -2.453      0.014   -5480.102    -610.931\n",
              "sexo_M                         2843.6637   1247.685      2.279      0.023     397.286    5290.042\n",
              "tipo_renda_Assalariado          335.1878   1030.452      0.325      0.745   -1685.255    2355.630\n",
              "tipo_renda_Bolsista           -1477.2301   3058.821     -0.483      0.629   -7474.764    4520.303\n",
              "tipo_renda_Empresário          1108.5275   1037.488      1.068      0.285    -925.710    3142.765\n",
              "tipo_renda_Pensionista         -938.7888   3470.143     -0.271      0.787   -7742.816    5865.238\n",
              "tipo_renda_Servidor público     770.4503   1073.685      0.718      0.473   -1334.761    2875.662\n",
              "educacao_Primário              -570.3222   1347.610     -0.423      0.672   -3212.627    2071.983\n",
              "educacao_Pós graduação          799.9066   2463.161      0.325      0.745   -4029.697    5629.510\n",
              "educacao_Secundário            -140.0637    755.897     -0.185      0.853   -1622.178    1342.050\n",
              "educacao_Superior completo      614.7748    749.022      0.821      0.412    -853.857    2083.407\n",
              "educacao_Superior incompleto   -906.1487    876.694     -1.034      0.301   -2625.113     812.816\n",
              "estado_civil_Casado            -290.8925   1636.366     -0.178      0.859   -3499.371    2917.586\n",
              "estado_civil_Separado           342.4429    648.295      0.528      0.597    -928.692    1613.577\n",
              "estado_civil_Solteiro           497.2815    528.211      0.941      0.347    -538.400    1532.963\n",
              "estado_civil_União            -1104.7438   1671.789     -0.661      0.509   -4382.677    2173.189\n",
              "estado_civil_Viúvo              354.0587    821.261      0.431      0.666   -1256.216    1964.334\n",
              "tipo_residencia_Aluguel         817.8974   1018.768      0.803      0.422   -1179.635    2815.430\n",
              "tipo_residencia_Casa           -482.7043    613.996     -0.786      0.432   -1686.587     721.178\n",
              "tipo_residencia_Com os pais    -515.2064    757.997     -0.680      0.497   -2001.436     971.023\n",
              "tipo_residencia_Comunitário   -1258.6906   1531.497     -0.822      0.411   -4261.549    1744.168\n",
              "tipo_residencia_Estúdio        2440.4500   1894.381      1.288      0.198   -1273.928    6154.828\n",
              "tipo_residencia_Governamental -1203.5992    870.856     -1.382      0.167   -2911.116     503.918\n",
              "==============================================================================\n",
              "Omnibus:                     4172.126   Durbin-Watson:                   2.007\n",
              "Prob(Omnibus):                  0.000   Jarque-Bera (JB):          1672728.243\n",
              "Skew:                           7.295   Prob(JB):                         0.00\n",
              "Kurtosis:                     115.730   Cond. No.                     1.27e+16\n",
              "==============================================================================\n",
              "\n",
              "Notes:\n",
              "[1] Standard Errors assume that the covariance matrix of the errors is correctly specified.\n",
              "[2] The smallest eigenvalue is 3.48e-26. This might indicate that there are\n",
              "strong multicollinearity problems or that the design matrix is singular.\n",
              "\"\"\""
            ],
            "text/html": [
              "<table class=\"simpletable\">\n",
              "<caption>OLS Regression Results</caption>\n",
              "<tr>\n",
              "  <th>Dep. Variable:</th>          <td>renda</td>      <th>  R-squared:         </th> <td>   0.270</td> \n",
              "</tr>\n",
              "<tr>\n",
              "  <th>Model:</th>                   <td>OLS</td>       <th>  Adj. R-squared:    </th> <td>   0.265</td> \n",
              "</tr>\n",
              "<tr>\n",
              "  <th>Method:</th>             <td>Least Squares</td>  <th>  F-statistic:       </th> <td>   47.59</td> \n",
              "</tr>\n",
              "<tr>\n",
              "  <th>Date:</th>             <td>Thu, 10 Aug 2023</td> <th>  Prob (F-statistic):</th> <td>1.81e-190</td>\n",
              "</tr>\n",
              "<tr>\n",
              "  <th>Time:</th>                 <td>20:21:44</td>     <th>  Log-Likelihood:    </th> <td> -31924.</td> \n",
              "</tr>\n",
              "<tr>\n",
              "  <th>No. Observations:</th>      <td>  3107</td>      <th>  AIC:               </th> <td>6.390e+04</td>\n",
              "</tr>\n",
              "<tr>\n",
              "  <th>Df Residuals:</th>          <td>  3082</td>      <th>  BIC:               </th> <td>6.405e+04</td>\n",
              "</tr>\n",
              "<tr>\n",
              "  <th>Df Model:</th>              <td>    24</td>      <th>                     </th>     <td> </td>    \n",
              "</tr>\n",
              "<tr>\n",
              "  <th>Covariance Type:</th>      <td>nonrobust</td>    <th>                     </th>     <td> </td>    \n",
              "</tr>\n",
              "</table>\n",
              "<table class=\"simpletable\">\n",
              "<tr>\n",
              "                <td></td>                   <th>coef</th>     <th>std err</th>      <th>t</th>      <th>P>|t|</th>  <th>[0.025</th>    <th>0.975]</th>  \n",
              "</tr>\n",
              "<tr>\n",
              "  <th>posse_de_veiculo</th>              <td>  553.0579</td> <td>  276.469</td> <td>    2.000</td> <td> 0.046</td> <td>   10.976</td> <td> 1095.140</td>\n",
              "</tr>\n",
              "<tr>\n",
              "  <th>posse_de_imovel</th>               <td>  302.1051</td> <td>  273.988</td> <td>    1.103</td> <td> 0.270</td> <td> -235.112</td> <td>  839.322</td>\n",
              "</tr>\n",
              "<tr>\n",
              "  <th>qtd_filhos</th>                    <td> -652.0644</td> <td> 1965.759</td> <td>   -0.332</td> <td> 0.740</td> <td>-4506.394</td> <td> 3202.265</td>\n",
              "</tr>\n",
              "<tr>\n",
              "  <th>idade</th>                         <td>   35.4593</td> <td>   15.857</td> <td>    2.236</td> <td> 0.025</td> <td>    4.368</td> <td>   66.550</td>\n",
              "</tr>\n",
              "<tr>\n",
              "  <th>tempo_emprego</th>                 <td>  509.0392</td> <td>   20.270</td> <td>   25.113</td> <td> 0.000</td> <td>  469.296</td> <td>  548.783</td>\n",
              "</tr>\n",
              "<tr>\n",
              "  <th>qt_pessoas_residencia</th>         <td>  616.8992</td> <td> 1958.502</td> <td>    0.315</td> <td> 0.753</td> <td>-3223.203</td> <td> 4457.001</td>\n",
              "</tr>\n",
              "<tr>\n",
              "  <th>sexo_F</th>                        <td>-3045.5169</td> <td> 1241.670</td> <td>   -2.453</td> <td> 0.014</td> <td>-5480.102</td> <td> -610.931</td>\n",
              "</tr>\n",
              "<tr>\n",
              "  <th>sexo_M</th>                        <td> 2843.6637</td> <td> 1247.685</td> <td>    2.279</td> <td> 0.023</td> <td>  397.286</td> <td> 5290.042</td>\n",
              "</tr>\n",
              "<tr>\n",
              "  <th>tipo_renda_Assalariado</th>        <td>  335.1878</td> <td> 1030.452</td> <td>    0.325</td> <td> 0.745</td> <td>-1685.255</td> <td> 2355.630</td>\n",
              "</tr>\n",
              "<tr>\n",
              "  <th>tipo_renda_Bolsista</th>           <td>-1477.2301</td> <td> 3058.821</td> <td>   -0.483</td> <td> 0.629</td> <td>-7474.764</td> <td> 4520.303</td>\n",
              "</tr>\n",
              "<tr>\n",
              "  <th>tipo_renda_Empresário</th>         <td> 1108.5275</td> <td> 1037.488</td> <td>    1.068</td> <td> 0.285</td> <td> -925.710</td> <td> 3142.765</td>\n",
              "</tr>\n",
              "<tr>\n",
              "  <th>tipo_renda_Pensionista</th>        <td> -938.7888</td> <td> 3470.143</td> <td>   -0.271</td> <td> 0.787</td> <td>-7742.816</td> <td> 5865.238</td>\n",
              "</tr>\n",
              "<tr>\n",
              "  <th>tipo_renda_Servidor público</th>   <td>  770.4503</td> <td> 1073.685</td> <td>    0.718</td> <td> 0.473</td> <td>-1334.761</td> <td> 2875.662</td>\n",
              "</tr>\n",
              "<tr>\n",
              "  <th>educacao_Primário</th>             <td> -570.3222</td> <td> 1347.610</td> <td>   -0.423</td> <td> 0.672</td> <td>-3212.627</td> <td> 2071.983</td>\n",
              "</tr>\n",
              "<tr>\n",
              "  <th>educacao_Pós graduação</th>        <td>  799.9066</td> <td> 2463.161</td> <td>    0.325</td> <td> 0.745</td> <td>-4029.697</td> <td> 5629.510</td>\n",
              "</tr>\n",
              "<tr>\n",
              "  <th>educacao_Secundário</th>           <td> -140.0637</td> <td>  755.897</td> <td>   -0.185</td> <td> 0.853</td> <td>-1622.178</td> <td> 1342.050</td>\n",
              "</tr>\n",
              "<tr>\n",
              "  <th>educacao_Superior completo</th>    <td>  614.7748</td> <td>  749.022</td> <td>    0.821</td> <td> 0.412</td> <td> -853.857</td> <td> 2083.407</td>\n",
              "</tr>\n",
              "<tr>\n",
              "  <th>educacao_Superior incompleto</th>  <td> -906.1487</td> <td>  876.694</td> <td>   -1.034</td> <td> 0.301</td> <td>-2625.113</td> <td>  812.816</td>\n",
              "</tr>\n",
              "<tr>\n",
              "  <th>estado_civil_Casado</th>           <td> -290.8925</td> <td> 1636.366</td> <td>   -0.178</td> <td> 0.859</td> <td>-3499.371</td> <td> 2917.586</td>\n",
              "</tr>\n",
              "<tr>\n",
              "  <th>estado_civil_Separado</th>         <td>  342.4429</td> <td>  648.295</td> <td>    0.528</td> <td> 0.597</td> <td> -928.692</td> <td> 1613.577</td>\n",
              "</tr>\n",
              "<tr>\n",
              "  <th>estado_civil_Solteiro</th>         <td>  497.2815</td> <td>  528.211</td> <td>    0.941</td> <td> 0.347</td> <td> -538.400</td> <td> 1532.963</td>\n",
              "</tr>\n",
              "<tr>\n",
              "  <th>estado_civil_União</th>            <td>-1104.7438</td> <td> 1671.789</td> <td>   -0.661</td> <td> 0.509</td> <td>-4382.677</td> <td> 2173.189</td>\n",
              "</tr>\n",
              "<tr>\n",
              "  <th>estado_civil_Viúvo</th>            <td>  354.0587</td> <td>  821.261</td> <td>    0.431</td> <td> 0.666</td> <td>-1256.216</td> <td> 1964.334</td>\n",
              "</tr>\n",
              "<tr>\n",
              "  <th>tipo_residencia_Aluguel</th>       <td>  817.8974</td> <td> 1018.768</td> <td>    0.803</td> <td> 0.422</td> <td>-1179.635</td> <td> 2815.430</td>\n",
              "</tr>\n",
              "<tr>\n",
              "  <th>tipo_residencia_Casa</th>          <td> -482.7043</td> <td>  613.996</td> <td>   -0.786</td> <td> 0.432</td> <td>-1686.587</td> <td>  721.178</td>\n",
              "</tr>\n",
              "<tr>\n",
              "  <th>tipo_residencia_Com os pais</th>   <td> -515.2064</td> <td>  757.997</td> <td>   -0.680</td> <td> 0.497</td> <td>-2001.436</td> <td>  971.023</td>\n",
              "</tr>\n",
              "<tr>\n",
              "  <th>tipo_residencia_Comunitário</th>   <td>-1258.6906</td> <td> 1531.497</td> <td>   -0.822</td> <td> 0.411</td> <td>-4261.549</td> <td> 1744.168</td>\n",
              "</tr>\n",
              "<tr>\n",
              "  <th>tipo_residencia_Estúdio</th>       <td> 2440.4500</td> <td> 1894.381</td> <td>    1.288</td> <td> 0.198</td> <td>-1273.928</td> <td> 6154.828</td>\n",
              "</tr>\n",
              "<tr>\n",
              "  <th>tipo_residencia_Governamental</th> <td>-1203.5992</td> <td>  870.856</td> <td>   -1.382</td> <td> 0.167</td> <td>-2911.116</td> <td>  503.918</td>\n",
              "</tr>\n",
              "</table>\n",
              "<table class=\"simpletable\">\n",
              "<tr>\n",
              "  <th>Omnibus:</th>       <td>4172.126</td> <th>  Durbin-Watson:     </th>  <td>   2.007</td>  \n",
              "</tr>\n",
              "<tr>\n",
              "  <th>Prob(Omnibus):</th>  <td> 0.000</td>  <th>  Jarque-Bera (JB):  </th> <td>1672728.243</td>\n",
              "</tr>\n",
              "<tr>\n",
              "  <th>Skew:</th>           <td> 7.295</td>  <th>  Prob(JB):          </th>  <td>    0.00</td>  \n",
              "</tr>\n",
              "<tr>\n",
              "  <th>Kurtosis:</th>       <td>115.730</td> <th>  Cond. No.          </th>  <td>1.27e+16</td>  \n",
              "</tr>\n",
              "</table><br/><br/>Notes:<br/>[1] Standard Errors assume that the covariance matrix of the errors is correctly specified.<br/>[2] The smallest eigenvalue is 3.48e-26. This might indicate that there are<br/>strong multicollinearity problems or that the design matrix is singular."
            ]
          },
          "metadata": {},
          "execution_count": 21
        }
      ]
    },
    {
      "cell_type": "code",
      "source": [
        "# Os modelos com regressão LASSO e ridge foram melhores"
      ],
      "metadata": {
        "id": "2KGuoKueTsys"
      },
      "execution_count": 18,
      "outputs": []
    },
    {
      "cell_type": "code",
      "source": [
        "# Rodando uma árvore de regressão\n",
        "tree =  DecisionTreeRegressor(max_depth= 5, min_samples_split= 10)"
      ],
      "metadata": {
        "id": "-IKNwto5H1LI"
      },
      "execution_count": 52,
      "outputs": []
    },
    {
      "cell_type": "code",
      "source": [
        "dum = pd.get_dummies(df)\n",
        "X_train, X_test = train_test_split(dum, test_size=0.25)\n",
        "encoded = preprocessing.LabelEncoder().fit_transform(np.array([1.4,0.4]))"
      ],
      "metadata": {
        "id": "01BVLM8JJGzm"
      },
      "execution_count": 53,
      "outputs": []
    },
    {
      "cell_type": "code",
      "source": [
        "tree.fit(X_train.astype(float), y_train.astype(float))"
      ],
      "metadata": {
        "colab": {
          "base_uri": "https://localhost:8080/",
          "height": 75
        },
        "id": "MfXDj-pmIysN",
        "outputId": "9b25fba5-766f-4448-a1dc-f34e0f97fbfc"
      },
      "execution_count": 59,
      "outputs": [
        {
          "output_type": "execute_result",
          "data": {
            "text/plain": [
              "DecisionTreeRegressor(max_depth=5, min_samples_split=10)"
            ],
            "text/html": [
              "<style>#sk-container-id-2 {color: black;background-color: white;}#sk-container-id-2 pre{padding: 0;}#sk-container-id-2 div.sk-toggleable {background-color: white;}#sk-container-id-2 label.sk-toggleable__label {cursor: pointer;display: block;width: 100%;margin-bottom: 0;padding: 0.3em;box-sizing: border-box;text-align: center;}#sk-container-id-2 label.sk-toggleable__label-arrow:before {content: \"▸\";float: left;margin-right: 0.25em;color: #696969;}#sk-container-id-2 label.sk-toggleable__label-arrow:hover:before {color: black;}#sk-container-id-2 div.sk-estimator:hover label.sk-toggleable__label-arrow:before {color: black;}#sk-container-id-2 div.sk-toggleable__content {max-height: 0;max-width: 0;overflow: hidden;text-align: left;background-color: #f0f8ff;}#sk-container-id-2 div.sk-toggleable__content pre {margin: 0.2em;color: black;border-radius: 0.25em;background-color: #f0f8ff;}#sk-container-id-2 input.sk-toggleable__control:checked~div.sk-toggleable__content {max-height: 200px;max-width: 100%;overflow: auto;}#sk-container-id-2 input.sk-toggleable__control:checked~label.sk-toggleable__label-arrow:before {content: \"▾\";}#sk-container-id-2 div.sk-estimator input.sk-toggleable__control:checked~label.sk-toggleable__label {background-color: #d4ebff;}#sk-container-id-2 div.sk-label input.sk-toggleable__control:checked~label.sk-toggleable__label {background-color: #d4ebff;}#sk-container-id-2 input.sk-hidden--visually {border: 0;clip: rect(1px 1px 1px 1px);clip: rect(1px, 1px, 1px, 1px);height: 1px;margin: -1px;overflow: hidden;padding: 0;position: absolute;width: 1px;}#sk-container-id-2 div.sk-estimator {font-family: monospace;background-color: #f0f8ff;border: 1px dotted black;border-radius: 0.25em;box-sizing: border-box;margin-bottom: 0.5em;}#sk-container-id-2 div.sk-estimator:hover {background-color: #d4ebff;}#sk-container-id-2 div.sk-parallel-item::after {content: \"\";width: 100%;border-bottom: 1px solid gray;flex-grow: 1;}#sk-container-id-2 div.sk-label:hover label.sk-toggleable__label {background-color: #d4ebff;}#sk-container-id-2 div.sk-serial::before {content: \"\";position: absolute;border-left: 1px solid gray;box-sizing: border-box;top: 0;bottom: 0;left: 50%;z-index: 0;}#sk-container-id-2 div.sk-serial {display: flex;flex-direction: column;align-items: center;background-color: white;padding-right: 0.2em;padding-left: 0.2em;position: relative;}#sk-container-id-2 div.sk-item {position: relative;z-index: 1;}#sk-container-id-2 div.sk-parallel {display: flex;align-items: stretch;justify-content: center;background-color: white;position: relative;}#sk-container-id-2 div.sk-item::before, #sk-container-id-2 div.sk-parallel-item::before {content: \"\";position: absolute;border-left: 1px solid gray;box-sizing: border-box;top: 0;bottom: 0;left: 50%;z-index: -1;}#sk-container-id-2 div.sk-parallel-item {display: flex;flex-direction: column;z-index: 1;position: relative;background-color: white;}#sk-container-id-2 div.sk-parallel-item:first-child::after {align-self: flex-end;width: 50%;}#sk-container-id-2 div.sk-parallel-item:last-child::after {align-self: flex-start;width: 50%;}#sk-container-id-2 div.sk-parallel-item:only-child::after {width: 0;}#sk-container-id-2 div.sk-dashed-wrapped {border: 1px dashed gray;margin: 0 0.4em 0.5em 0.4em;box-sizing: border-box;padding-bottom: 0.4em;background-color: white;}#sk-container-id-2 div.sk-label label {font-family: monospace;font-weight: bold;display: inline-block;line-height: 1.2em;}#sk-container-id-2 div.sk-label-container {text-align: center;}#sk-container-id-2 div.sk-container {/* jupyter's `normalize.less` sets `[hidden] { display: none; }` but bootstrap.min.css set `[hidden] { display: none !important; }` so we also need the `!important` here to be able to override the default hidden behavior on the sphinx rendered scikit-learn.org. See: https://github.com/scikit-learn/scikit-learn/issues/21755 */display: inline-block !important;position: relative;}#sk-container-id-2 div.sk-text-repr-fallback {display: none;}</style><div id=\"sk-container-id-2\" class=\"sk-top-container\"><div class=\"sk-text-repr-fallback\"><pre>DecisionTreeRegressor(max_depth=5, min_samples_split=10)</pre><b>In a Jupyter environment, please rerun this cell to show the HTML representation or trust the notebook. <br />On GitHub, the HTML representation is unable to render, please try loading this page with nbviewer.org.</b></div><div class=\"sk-container\" hidden><div class=\"sk-item\"><div class=\"sk-estimator sk-toggleable\"><input class=\"sk-toggleable__control sk-hidden--visually\" id=\"sk-estimator-id-2\" type=\"checkbox\" checked><label for=\"sk-estimator-id-2\" class=\"sk-toggleable__label sk-toggleable__label-arrow\">DecisionTreeRegressor</label><div class=\"sk-toggleable__content\"><pre>DecisionTreeRegressor(max_depth=5, min_samples_split=10)</pre></div></div></div></div></div>"
            ]
          },
          "metadata": {},
          "execution_count": 59
        }
      ]
    },
    {
      "cell_type": "code",
      "source": [
        "tree.score(X_train, y_train)"
      ],
      "metadata": {
        "colab": {
          "base_uri": "https://localhost:8080/"
        },
        "id": "_KrimXkXK2bZ",
        "outputId": "08e6b529-64bd-4826-822c-7f8e6a13d6e5"
      },
      "execution_count": 61,
      "outputs": [
        {
          "output_type": "execute_result",
          "data": {
            "text/plain": [
              "0.012339977330830143"
            ]
          },
          "metadata": {},
          "execution_count": 61
        }
      ]
    }
  ],
  "metadata": {
    "kernelspec": {
      "display_name": "Python 3",
      "language": "python",
      "name": "python3"
    },
    "language_info": {
      "codemirror_mode": {
        "name": "ipython",
        "version": 3
      },
      "file_extension": ".py",
      "mimetype": "text/x-python",
      "name": "python",
      "nbconvert_exporter": "python",
      "pygments_lexer": "ipython3",
      "version": "3.8.5"
    },
    "colab": {
      "provenance": []
    }
  },
  "nbformat": 4,
  "nbformat_minor": 0
}