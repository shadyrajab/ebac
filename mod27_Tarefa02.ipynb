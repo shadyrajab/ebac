{
  "cells": [
    {
      "cell_type": "markdown",
      "metadata": {
        "id": "plah0BylGHX2"
      },
      "source": [
        "# Classificação de Atividade Humana com PCA\n",
        "\n",
        "Vamos trabalhar com a base da demonstração feita em aula, mas vamos explorar um pouco melhor como é o desempenho da árvore variando o número de componentes principais."
      ]
    },
    {
      "cell_type": "code",
      "execution_count": 24,
      "metadata": {
        "id": "dYBq53nvGHX3"
      },
      "outputs": [],
      "source": [
        "import pandas as pd\n",
        "import matplotlib.pyplot as plt\n",
        "import seaborn as sns\n",
        "import numpy as np\n",
        "\n",
        "from sklearn.tree import DecisionTreeClassifier\n",
        "from sklearn.preprocessing import StandardScaler\n",
        "\n",
        "from sklearn.decomposition import PCA\n",
        "from sklearn.tree import DecisionTreeClassifier\n",
        "from sklearn.metrics import accuracy_score\n",
        "from sklearn.metrics import confusion_matrix\n",
        "\n",
        "\n",
        "filename_features = \"/content/features.txt\"\n",
        "filename_labels = \"/content/activity_labels.txt\"\n",
        "\n",
        "filename_subtrain = \"/content/subject_train.txt\"\n",
        "filename_xtrain = \"/content/X_train.txt\"\n",
        "filename_ytrain = \"/content/y_train.txt\"\n",
        "\n",
        "filename_subtest = \"/content/subject_test.txt\"\n",
        "ffilename_xtest = \"/content/X_test.txt\"\n",
        "filename_ytest = \"/content/y_test.txt\"\n",
        "\n",
        "features = pd.read_csv(filename_features, header=None, names=['nome_var'], sep=\"#\")\n",
        "labels = pd.read_csv(filename_labels, delim_whitespace=True, header=None, names=['cod_label', 'label'])\n",
        "\n",
        "subject_train = pd.read_csv(filename_subtrain, header=None, names=['subject_id'])\n",
        "X_train = pd.read_csv(filename_xtrain, delim_whitespace=True, header=None, names=features['nome_var'])\n",
        "y_train = pd.read_csv(filename_ytrain, header=None, names=['cod_label'])\n",
        "\n",
        "subject_test = pd.read_csv(filename_subtest, header=None, names=['subject_id'])\n",
        "X_test = pd.read_csv(ffilename_xtest, delim_whitespace=True, header=None, names=features['nome_var'])\n",
        "y_test = pd.read_csv(filename_ytest, header=None, names=['cod_label'])"
      ]
    },
    {
      "cell_type": "markdown",
      "metadata": {
        "id": "R-3LxIQoGHX5"
      },
      "source": [
        "## PCA com variáveis padronizadas\n",
        "\n",
        "Reflexão sobre a escala das variáveis:\n",
        "\n",
        "**Variáveis em métricas muito diferentes** podem interferir na análise de componentes principais. Lembra que variância é informação pra nós? Pois bem, tipicamente se há uma variável monetária como salário, vai ter uma ordem de variabilidade bem maior que número de filhos, tempo de emprego ou qualquer variável dummy. Assim, as variáveis de maior variância tendem a \"dominar\" a análise. Nesses casos é comum usar a padronização das variáveis.\n",
        "\n",
        "Faça duas análises de componentes principais para a base do HAR - com e sem padronização e compare:\n",
        "\n",
        "- A variância explicada por componente\n",
        "- A variância explicada acumulada por componente\n",
        "- A variância percentual por componente\n",
        "- A variância percentual acumulada por componente\n",
        "- Quantas componentes você escolheria, em cada caso para explicar 90% da variância?"
      ]
    },
    {
      "cell_type": "code",
      "execution_count": 25,
      "metadata": {
        "colab": {
          "base_uri": "https://localhost:8080/",
          "height": 325
        },
        "id": "qXXCLmYwGHX6",
        "outputId": "b2d0283a-8b6a-44bb-f41a-9474b92bf5c5"
      },
      "outputs": [
        {
          "output_type": "stream",
          "name": "stdout",
          "text": [
            "CPU times: user 466 ms, sys: 0 ns, total: 466 ms\n",
            "Wall time: 475 ms\n"
          ]
        },
        {
          "output_type": "execute_result",
          "data": {
            "text/plain": [
              "   1 tBodyAcc-mean()-X  2 tBodyAcc-mean()-Y  3 tBodyAcc-mean()-Z  \\\n",
              "0             0.200628            -0.063678            -0.419600   \n",
              "1             0.055944             0.031484            -0.253891   \n",
              "2             0.073510            -0.043414            -0.076289   \n",
              "3             0.066691            -0.208407            -0.249695   \n",
              "4             0.030467             0.027585            -0.109840   \n",
              "\n",
              "   4 tBodyAcc-std()-X  5 tBodyAcc-std()-Y  6 tBodyAcc-std()-Z  \\\n",
              "0           -0.868755           -0.939377           -0.737479   \n",
              "1           -0.875366           -0.923839           -0.849247   \n",
              "2           -0.868980           -0.907698           -0.893724   \n",
              "3           -0.870566           -0.939959           -0.921743   \n",
              "4           -0.875128           -0.934815           -0.921281   \n",
              "\n",
              "   7 tBodyAcc-mad()-X  8 tBodyAcc-mad()-Y  9 tBodyAcc-mad()-Z  \\\n",
              "0           -0.859758           -0.938955           -0.766385   \n",
              "1           -0.868472           -0.921936           -0.848870   \n",
              "2           -0.863078           -0.898793           -0.896640   \n",
              "3           -0.864445           -0.938060           -0.925216   \n",
              "4           -0.867325           -0.931726           -0.927965   \n",
              "\n",
              "   10 tBodyAcc-max()-X  ...  552 fBodyBodyGyroJerkMag-meanFreq()  \\\n",
              "0            -0.855978  ...                            -0.795305   \n",
              "1            -0.871300  ...                             0.130605   \n",
              "2            -0.863264  ...                             1.152257   \n",
              "3            -0.863264  ...                             1.112694   \n",
              "4            -0.870201  ...                            -0.149567   \n",
              "\n",
              "   553 fBodyBodyGyroJerkMag-skewness()  554 fBodyBodyGyroJerkMag-kurtosis()  \\\n",
              "0                             0.025958                            -0.276380   \n",
              "1                            -0.897296                            -0.767938   \n",
              "2                            -0.260860                            -0.438286   \n",
              "3                             0.591005                             0.463123   \n",
              "4                            -0.138505                            -0.240296   \n",
              "\n",
              "   555 angle(tBodyAccMean,gravity)  556 angle(tBodyAccJerkMean),gravityMean)  \\\n",
              "0                        -0.360579                                  0.062935   \n",
              "1                         0.133002                                 -0.021460   \n",
              "2                        -0.377815                                  0.391949   \n",
              "3                        -0.135016                                 -0.033635   \n",
              "4                         0.340383                                  0.268468   \n",
              "\n",
              "   557 angle(tBodyGyroMean,gravityMean)  \\\n",
              "0                             -0.778374   \n",
              "1                             -1.218722   \n",
              "2                              0.151197   \n",
              "3                              1.037781   \n",
              "4                              1.125841   \n",
              "\n",
              "   558 angle(tBodyGyroJerkMean,gravityMean)  559 angle(X,gravityMean)  \\\n",
              "0                                 -0.026079                 -0.687172   \n",
              "1                                  1.484369                 -0.694091   \n",
              "2                                  1.704085                 -0.702191   \n",
              "3                                 -1.002951                 -0.701636   \n",
              "4                                 -1.276196                 -0.700104   \n",
              "\n",
              "   560 angle(Y,gravityMean)  561 angle(Z,gravityMean)  \n",
              "0                  0.407918                 -0.007567  \n",
              "1                  0.409089                  0.007875  \n",
              "2                  0.410260                  0.026501  \n",
              "3                  0.414622                  0.031712  \n",
              "4                  0.425434                  0.045222  \n",
              "\n",
              "[5 rows x 561 columns]"
            ],
            "text/html": [
              "\n",
              "  <div id=\"df-2d4d1ae3-ba48-4262-a58b-4e4cf0a5254d\" class=\"colab-df-container\">\n",
              "    <div>\n",
              "<style scoped>\n",
              "    .dataframe tbody tr th:only-of-type {\n",
              "        vertical-align: middle;\n",
              "    }\n",
              "\n",
              "    .dataframe tbody tr th {\n",
              "        vertical-align: top;\n",
              "    }\n",
              "\n",
              "    .dataframe thead th {\n",
              "        text-align: right;\n",
              "    }\n",
              "</style>\n",
              "<table border=\"1\" class=\"dataframe\">\n",
              "  <thead>\n",
              "    <tr style=\"text-align: right;\">\n",
              "      <th></th>\n",
              "      <th>1 tBodyAcc-mean()-X</th>\n",
              "      <th>2 tBodyAcc-mean()-Y</th>\n",
              "      <th>3 tBodyAcc-mean()-Z</th>\n",
              "      <th>4 tBodyAcc-std()-X</th>\n",
              "      <th>5 tBodyAcc-std()-Y</th>\n",
              "      <th>6 tBodyAcc-std()-Z</th>\n",
              "      <th>7 tBodyAcc-mad()-X</th>\n",
              "      <th>8 tBodyAcc-mad()-Y</th>\n",
              "      <th>9 tBodyAcc-mad()-Z</th>\n",
              "      <th>10 tBodyAcc-max()-X</th>\n",
              "      <th>...</th>\n",
              "      <th>552 fBodyBodyGyroJerkMag-meanFreq()</th>\n",
              "      <th>553 fBodyBodyGyroJerkMag-skewness()</th>\n",
              "      <th>554 fBodyBodyGyroJerkMag-kurtosis()</th>\n",
              "      <th>555 angle(tBodyAccMean,gravity)</th>\n",
              "      <th>556 angle(tBodyAccJerkMean),gravityMean)</th>\n",
              "      <th>557 angle(tBodyGyroMean,gravityMean)</th>\n",
              "      <th>558 angle(tBodyGyroJerkMean,gravityMean)</th>\n",
              "      <th>559 angle(X,gravityMean)</th>\n",
              "      <th>560 angle(Y,gravityMean)</th>\n",
              "      <th>561 angle(Z,gravityMean)</th>\n",
              "    </tr>\n",
              "  </thead>\n",
              "  <tbody>\n",
              "    <tr>\n",
              "      <th>0</th>\n",
              "      <td>0.200628</td>\n",
              "      <td>-0.063678</td>\n",
              "      <td>-0.419600</td>\n",
              "      <td>-0.868755</td>\n",
              "      <td>-0.939377</td>\n",
              "      <td>-0.737479</td>\n",
              "      <td>-0.859758</td>\n",
              "      <td>-0.938955</td>\n",
              "      <td>-0.766385</td>\n",
              "      <td>-0.855978</td>\n",
              "      <td>...</td>\n",
              "      <td>-0.795305</td>\n",
              "      <td>0.025958</td>\n",
              "      <td>-0.276380</td>\n",
              "      <td>-0.360579</td>\n",
              "      <td>0.062935</td>\n",
              "      <td>-0.778374</td>\n",
              "      <td>-0.026079</td>\n",
              "      <td>-0.687172</td>\n",
              "      <td>0.407918</td>\n",
              "      <td>-0.007567</td>\n",
              "    </tr>\n",
              "    <tr>\n",
              "      <th>1</th>\n",
              "      <td>0.055944</td>\n",
              "      <td>0.031484</td>\n",
              "      <td>-0.253891</td>\n",
              "      <td>-0.875366</td>\n",
              "      <td>-0.923839</td>\n",
              "      <td>-0.849247</td>\n",
              "      <td>-0.868472</td>\n",
              "      <td>-0.921936</td>\n",
              "      <td>-0.848870</td>\n",
              "      <td>-0.871300</td>\n",
              "      <td>...</td>\n",
              "      <td>0.130605</td>\n",
              "      <td>-0.897296</td>\n",
              "      <td>-0.767938</td>\n",
              "      <td>0.133002</td>\n",
              "      <td>-0.021460</td>\n",
              "      <td>-1.218722</td>\n",
              "      <td>1.484369</td>\n",
              "      <td>-0.694091</td>\n",
              "      <td>0.409089</td>\n",
              "      <td>0.007875</td>\n",
              "    </tr>\n",
              "    <tr>\n",
              "      <th>2</th>\n",
              "      <td>0.073510</td>\n",
              "      <td>-0.043414</td>\n",
              "      <td>-0.076289</td>\n",
              "      <td>-0.868980</td>\n",
              "      <td>-0.907698</td>\n",
              "      <td>-0.893724</td>\n",
              "      <td>-0.863078</td>\n",
              "      <td>-0.898793</td>\n",
              "      <td>-0.896640</td>\n",
              "      <td>-0.863264</td>\n",
              "      <td>...</td>\n",
              "      <td>1.152257</td>\n",
              "      <td>-0.260860</td>\n",
              "      <td>-0.438286</td>\n",
              "      <td>-0.377815</td>\n",
              "      <td>0.391949</td>\n",
              "      <td>0.151197</td>\n",
              "      <td>1.704085</td>\n",
              "      <td>-0.702191</td>\n",
              "      <td>0.410260</td>\n",
              "      <td>0.026501</td>\n",
              "    </tr>\n",
              "    <tr>\n",
              "      <th>3</th>\n",
              "      <td>0.066691</td>\n",
              "      <td>-0.208407</td>\n",
              "      <td>-0.249695</td>\n",
              "      <td>-0.870566</td>\n",
              "      <td>-0.939959</td>\n",
              "      <td>-0.921743</td>\n",
              "      <td>-0.864445</td>\n",
              "      <td>-0.938060</td>\n",
              "      <td>-0.925216</td>\n",
              "      <td>-0.863264</td>\n",
              "      <td>...</td>\n",
              "      <td>1.112694</td>\n",
              "      <td>0.591005</td>\n",
              "      <td>0.463123</td>\n",
              "      <td>-0.135016</td>\n",
              "      <td>-0.033635</td>\n",
              "      <td>1.037781</td>\n",
              "      <td>-1.002951</td>\n",
              "      <td>-0.701636</td>\n",
              "      <td>0.414622</td>\n",
              "      <td>0.031712</td>\n",
              "    </tr>\n",
              "    <tr>\n",
              "      <th>4</th>\n",
              "      <td>0.030467</td>\n",
              "      <td>0.027585</td>\n",
              "      <td>-0.109840</td>\n",
              "      <td>-0.875128</td>\n",
              "      <td>-0.934815</td>\n",
              "      <td>-0.921281</td>\n",
              "      <td>-0.867325</td>\n",
              "      <td>-0.931726</td>\n",
              "      <td>-0.927965</td>\n",
              "      <td>-0.870201</td>\n",
              "      <td>...</td>\n",
              "      <td>-0.149567</td>\n",
              "      <td>-0.138505</td>\n",
              "      <td>-0.240296</td>\n",
              "      <td>0.340383</td>\n",
              "      <td>0.268468</td>\n",
              "      <td>1.125841</td>\n",
              "      <td>-1.276196</td>\n",
              "      <td>-0.700104</td>\n",
              "      <td>0.425434</td>\n",
              "      <td>0.045222</td>\n",
              "    </tr>\n",
              "  </tbody>\n",
              "</table>\n",
              "<p>5 rows × 561 columns</p>\n",
              "</div>\n",
              "    <div class=\"colab-df-buttons\">\n",
              "\n",
              "  <div class=\"colab-df-container\">\n",
              "    <button class=\"colab-df-convert\" onclick=\"convertToInteractive('df-2d4d1ae3-ba48-4262-a58b-4e4cf0a5254d')\"\n",
              "            title=\"Convert this dataframe to an interactive table.\"\n",
              "            style=\"display:none;\">\n",
              "\n",
              "  <svg xmlns=\"http://www.w3.org/2000/svg\" height=\"24px\" viewBox=\"0 -960 960 960\">\n",
              "    <path d=\"M120-120v-720h720v720H120Zm60-500h600v-160H180v160Zm220 220h160v-160H400v160Zm0 220h160v-160H400v160ZM180-400h160v-160H180v160Zm440 0h160v-160H620v160ZM180-180h160v-160H180v160Zm440 0h160v-160H620v160Z\"/>\n",
              "  </svg>\n",
              "    </button>\n",
              "\n",
              "  <style>\n",
              "    .colab-df-container {\n",
              "      display:flex;\n",
              "      gap: 12px;\n",
              "    }\n",
              "\n",
              "    .colab-df-convert {\n",
              "      background-color: #E8F0FE;\n",
              "      border: none;\n",
              "      border-radius: 50%;\n",
              "      cursor: pointer;\n",
              "      display: none;\n",
              "      fill: #1967D2;\n",
              "      height: 32px;\n",
              "      padding: 0 0 0 0;\n",
              "      width: 32px;\n",
              "    }\n",
              "\n",
              "    .colab-df-convert:hover {\n",
              "      background-color: #E2EBFA;\n",
              "      box-shadow: 0px 1px 2px rgba(60, 64, 67, 0.3), 0px 1px 3px 1px rgba(60, 64, 67, 0.15);\n",
              "      fill: #174EA6;\n",
              "    }\n",
              "\n",
              "    .colab-df-buttons div {\n",
              "      margin-bottom: 4px;\n",
              "    }\n",
              "\n",
              "    [theme=dark] .colab-df-convert {\n",
              "      background-color: #3B4455;\n",
              "      fill: #D2E3FC;\n",
              "    }\n",
              "\n",
              "    [theme=dark] .colab-df-convert:hover {\n",
              "      background-color: #434B5C;\n",
              "      box-shadow: 0px 1px 3px 1px rgba(0, 0, 0, 0.15);\n",
              "      filter: drop-shadow(0px 1px 2px rgba(0, 0, 0, 0.3));\n",
              "      fill: #FFFFFF;\n",
              "    }\n",
              "  </style>\n",
              "\n",
              "    <script>\n",
              "      const buttonEl =\n",
              "        document.querySelector('#df-2d4d1ae3-ba48-4262-a58b-4e4cf0a5254d button.colab-df-convert');\n",
              "      buttonEl.style.display =\n",
              "        google.colab.kernel.accessAllowed ? 'block' : 'none';\n",
              "\n",
              "      async function convertToInteractive(key) {\n",
              "        const element = document.querySelector('#df-2d4d1ae3-ba48-4262-a58b-4e4cf0a5254d');\n",
              "        const dataTable =\n",
              "          await google.colab.kernel.invokeFunction('convertToInteractive',\n",
              "                                                    [key], {});\n",
              "        if (!dataTable) return;\n",
              "\n",
              "        const docLinkHtml = 'Like what you see? Visit the ' +\n",
              "          '<a target=\"_blank\" href=https://colab.research.google.com/notebooks/data_table.ipynb>data table notebook</a>'\n",
              "          + ' to learn more about interactive tables.';\n",
              "        element.innerHTML = '';\n",
              "        dataTable['output_type'] = 'display_data';\n",
              "        await google.colab.output.renderOutput(dataTable, element);\n",
              "        const docLink = document.createElement('div');\n",
              "        docLink.innerHTML = docLinkHtml;\n",
              "        element.appendChild(docLink);\n",
              "      }\n",
              "    </script>\n",
              "  </div>\n",
              "\n",
              "\n",
              "<div id=\"df-cc06f64b-c074-40f5-8636-d426b7c109bd\">\n",
              "  <button class=\"colab-df-quickchart\" onclick=\"quickchart('df-cc06f64b-c074-40f5-8636-d426b7c109bd')\"\n",
              "            title=\"Suggest charts\"\n",
              "            style=\"display:none;\">\n",
              "\n",
              "<svg xmlns=\"http://www.w3.org/2000/svg\" height=\"24px\"viewBox=\"0 0 24 24\"\n",
              "     width=\"24px\">\n",
              "    <g>\n",
              "        <path d=\"M19 3H5c-1.1 0-2 .9-2 2v14c0 1.1.9 2 2 2h14c1.1 0 2-.9 2-2V5c0-1.1-.9-2-2-2zM9 17H7v-7h2v7zm4 0h-2V7h2v10zm4 0h-2v-4h2v4z\"/>\n",
              "    </g>\n",
              "</svg>\n",
              "  </button>\n",
              "\n",
              "<style>\n",
              "  .colab-df-quickchart {\n",
              "      --bg-color: #E8F0FE;\n",
              "      --fill-color: #1967D2;\n",
              "      --hover-bg-color: #E2EBFA;\n",
              "      --hover-fill-color: #174EA6;\n",
              "      --disabled-fill-color: #AAA;\n",
              "      --disabled-bg-color: #DDD;\n",
              "  }\n",
              "\n",
              "  [theme=dark] .colab-df-quickchart {\n",
              "      --bg-color: #3B4455;\n",
              "      --fill-color: #D2E3FC;\n",
              "      --hover-bg-color: #434B5C;\n",
              "      --hover-fill-color: #FFFFFF;\n",
              "      --disabled-bg-color: #3B4455;\n",
              "      --disabled-fill-color: #666;\n",
              "  }\n",
              "\n",
              "  .colab-df-quickchart {\n",
              "    background-color: var(--bg-color);\n",
              "    border: none;\n",
              "    border-radius: 50%;\n",
              "    cursor: pointer;\n",
              "    display: none;\n",
              "    fill: var(--fill-color);\n",
              "    height: 32px;\n",
              "    padding: 0;\n",
              "    width: 32px;\n",
              "  }\n",
              "\n",
              "  .colab-df-quickchart:hover {\n",
              "    background-color: var(--hover-bg-color);\n",
              "    box-shadow: 0 1px 2px rgba(60, 64, 67, 0.3), 0 1px 3px 1px rgba(60, 64, 67, 0.15);\n",
              "    fill: var(--button-hover-fill-color);\n",
              "  }\n",
              "\n",
              "  .colab-df-quickchart-complete:disabled,\n",
              "  .colab-df-quickchart-complete:disabled:hover {\n",
              "    background-color: var(--disabled-bg-color);\n",
              "    fill: var(--disabled-fill-color);\n",
              "    box-shadow: none;\n",
              "  }\n",
              "\n",
              "  .colab-df-spinner {\n",
              "    border: 2px solid var(--fill-color);\n",
              "    border-color: transparent;\n",
              "    border-bottom-color: var(--fill-color);\n",
              "    animation:\n",
              "      spin 1s steps(1) infinite;\n",
              "  }\n",
              "\n",
              "  @keyframes spin {\n",
              "    0% {\n",
              "      border-color: transparent;\n",
              "      border-bottom-color: var(--fill-color);\n",
              "      border-left-color: var(--fill-color);\n",
              "    }\n",
              "    20% {\n",
              "      border-color: transparent;\n",
              "      border-left-color: var(--fill-color);\n",
              "      border-top-color: var(--fill-color);\n",
              "    }\n",
              "    30% {\n",
              "      border-color: transparent;\n",
              "      border-left-color: var(--fill-color);\n",
              "      border-top-color: var(--fill-color);\n",
              "      border-right-color: var(--fill-color);\n",
              "    }\n",
              "    40% {\n",
              "      border-color: transparent;\n",
              "      border-right-color: var(--fill-color);\n",
              "      border-top-color: var(--fill-color);\n",
              "    }\n",
              "    60% {\n",
              "      border-color: transparent;\n",
              "      border-right-color: var(--fill-color);\n",
              "    }\n",
              "    80% {\n",
              "      border-color: transparent;\n",
              "      border-right-color: var(--fill-color);\n",
              "      border-bottom-color: var(--fill-color);\n",
              "    }\n",
              "    90% {\n",
              "      border-color: transparent;\n",
              "      border-bottom-color: var(--fill-color);\n",
              "    }\n",
              "  }\n",
              "</style>\n",
              "\n",
              "  <script>\n",
              "    async function quickchart(key) {\n",
              "      const quickchartButtonEl =\n",
              "        document.querySelector('#' + key + ' button');\n",
              "      quickchartButtonEl.disabled = true;  // To prevent multiple clicks.\n",
              "      quickchartButtonEl.classList.add('colab-df-spinner');\n",
              "      try {\n",
              "        const charts = await google.colab.kernel.invokeFunction(\n",
              "            'suggestCharts', [key], {});\n",
              "      } catch (error) {\n",
              "        console.error('Error during call to suggestCharts:', error);\n",
              "      }\n",
              "      quickchartButtonEl.classList.remove('colab-df-spinner');\n",
              "      quickchartButtonEl.classList.add('colab-df-quickchart-complete');\n",
              "    }\n",
              "    (() => {\n",
              "      let quickchartButtonEl =\n",
              "        document.querySelector('#df-cc06f64b-c074-40f5-8636-d426b7c109bd button');\n",
              "      quickchartButtonEl.style.display =\n",
              "        google.colab.kernel.accessAllowed ? 'block' : 'none';\n",
              "    })();\n",
              "  </script>\n",
              "</div>\n",
              "\n",
              "    </div>\n",
              "  </div>\n"
            ],
            "application/vnd.google.colaboratory.intrinsic+json": {
              "type": "dataframe"
            }
          },
          "metadata": {},
          "execution_count": 25
        }
      ],
      "source": [
        "%%time\n",
        "\n",
        "def padroniza(s):\n",
        "    if s.std() > 0:\n",
        "        s = (s - s.mean())/s.std()\n",
        "    return s\n",
        "\n",
        "X_train_pad = pd.DataFrame(X_train).apply(padroniza, axis=0)\n",
        "X_train_pad.head()"
      ]
    },
    {
      "cell_type": "code",
      "source": [
        "# Padronização dos dados\n",
        "scaler = StandardScaler()\n",
        "X_train_pad = scaler.fit_transform(X_train)\n",
        "X_test_pad = scaler.fit_transform(X_test)"
      ],
      "metadata": {
        "id": "-RYncGIKei-8"
      },
      "execution_count": 45,
      "outputs": []
    },
    {
      "cell_type": "code",
      "source": [
        "# PCA sem padronização\n",
        "pca = PCA()\n",
        "X_train_pca = pca.fit_transform(X_train)"
      ],
      "metadata": {
        "id": "swwxauvNeo07"
      },
      "execution_count": 27,
      "outputs": []
    },
    {
      "cell_type": "code",
      "source": [
        "# PCA com padronização\n",
        "pca_pad = PCA()\n",
        "X_train_pca_pad = pca_pad.fit_transform(X_train_pad)"
      ],
      "metadata": {
        "id": "aGnBg_GgetgU"
      },
      "execution_count": 28,
      "outputs": []
    },
    {
      "cell_type": "code",
      "source": [
        "# Variância explicada por componente\n",
        "explained_variance = pca.explained_variance_\n",
        "explained_variance_pad = pca_pad.explained_variance_"
      ],
      "metadata": {
        "id": "_oeF-TIpe2YE"
      },
      "execution_count": 29,
      "outputs": []
    },
    {
      "cell_type": "code",
      "source": [
        "# Variância explicada acumulada por componente\n",
        "explained_variance_ratio = pca.explained_variance_ratio_\n",
        "explained_variance_ratio_pad = pca_pad.explained_variance_ratio_"
      ],
      "metadata": {
        "id": "Ae5gWhrYfC2u"
      },
      "execution_count": 30,
      "outputs": []
    },
    {
      "cell_type": "code",
      "source": [
        "# Variância percentual por componente\n",
        "explained_variance_percent = explained_variance_ratio * 100\n",
        "explained_variance_percent_pad = explained_variance_ratio_pad * 100"
      ],
      "metadata": {
        "id": "XIDIjzaNfE1V"
      },
      "execution_count": 31,
      "outputs": []
    },
    {
      "cell_type": "code",
      "source": [
        "# Variância percentual acumulada por componente\n",
        "cumulative_variance_percent = np.cumsum(explained_variance_percent)\n",
        "cumulative_variance_percent_pad = np.cumsum(explained_variance_percent_pad)"
      ],
      "metadata": {
        "id": "T18QgKYqfH5F"
      },
      "execution_count": 32,
      "outputs": []
    },
    {
      "cell_type": "code",
      "source": [
        "# Número de componentes para explicar 90% da variância\n",
        "n_components_90 = np.argmax(cumulative_variance_percent >= 90) + 1\n",
        "n_components_90_pad = np.argmax(cumulative_variance_percent_pad >= 90) + 1"
      ],
      "metadata": {
        "id": "cR6aPdV2fNjo"
      },
      "execution_count": 33,
      "outputs": []
    },
    {
      "cell_type": "markdown",
      "source": [
        "### Com padronização:"
      ],
      "metadata": {
        "id": "Epm4CK04fXny"
      }
    },
    {
      "cell_type": "code",
      "source": [
        "# Número de componentes para explicar 90% da variância:\n",
        "n_components_90"
      ],
      "metadata": {
        "colab": {
          "base_uri": "https://localhost:8080/"
        },
        "id": "VmFe8Vttfbjk",
        "outputId": "ad0e72c9-7056-430b-e078-293a4523ed2c"
      },
      "execution_count": 35,
      "outputs": [
        {
          "output_type": "execute_result",
          "data": {
            "text/plain": [
              "34"
            ]
          },
          "metadata": {},
          "execution_count": 35
        }
      ]
    },
    {
      "cell_type": "code",
      "source": [
        "# Variância explicada acumulada por componente:\n",
        "cumulative_variance_percent"
      ],
      "metadata": {
        "colab": {
          "base_uri": "https://localhost:8080/"
        },
        "id": "ZPWkifejfhDL",
        "outputId": "4f0c262b-d770-492e-9d89-b2702a81f853"
      },
      "execution_count": 36,
      "outputs": [
        {
          "output_type": "execute_result",
          "data": {
            "text/plain": [
              "array([ 62.55443998,  67.4674627 ,  71.58893016,  73.46388628,\n",
              "        75.15874627,  76.43081555,  77.60750069,  78.67647386,\n",
              "        79.64585363,  80.50387181,  81.26617372,  81.93861938,\n",
              "        82.51803897,  83.07591961,  83.57484534,  84.04978297,\n",
              "        84.51698308,  84.94860094,  85.37431612,  85.78471116,\n",
              "        86.17871356,  86.55402287,  86.90645036,  87.24580979,\n",
              "        87.57794878,  87.89737757,  88.19915672,  88.49093929,\n",
              "        88.78050925,  89.06243704,  89.33914119,  89.60253624,\n",
              "        89.85784293,  90.09370881,  90.32436112,  90.54800929,\n",
              "        90.77095742,  90.9812334 ,  91.18962632,  91.39440007,\n",
              "        91.58725653,  91.77613615,  91.95731641,  92.13678911,\n",
              "        92.30911678,  92.46931872,  92.62635821,  92.78298558,\n",
              "        92.93595543,  93.08630671,  93.23142442,  93.37206458,\n",
              "        93.50888964,  93.63574755,  93.76075366,  93.88049584,\n",
              "        93.99861565,  94.11361054,  94.22669303,  94.33636258,\n",
              "        94.44406665,  94.54896693,  94.65286105,  94.75433544,\n",
              "        94.85348714,  94.95051214,  95.04592206,  95.13738453,\n",
              "        95.22615131,  95.31375173,  95.39902494,  95.48192919,\n",
              "        95.56410511,  95.64473857,  95.72293262,  95.80085219,\n",
              "        95.87805193,  95.95266724,  96.02584561,  96.09809749,\n",
              "        96.16856482,  96.23754815,  96.30524708,  96.37150302,\n",
              "        96.4367604 ,  96.50171868,  96.56540945,  96.62844251,\n",
              "        96.68985709,  96.75020427,  96.81024768,  96.86900976,\n",
              "        96.92597061,  96.98157723,  97.03645878,  97.09087207,\n",
              "        97.14458852,  97.19726021,  97.24977471,  97.30111913,\n",
              "        97.35112493,  97.40017801,  97.44896293,  97.49666952,\n",
              "        97.54350964,  97.58967512,  97.63485742,  97.6795321 ,\n",
              "        97.72359544,  97.76703333,  97.80933035,  97.85128998,\n",
              "        97.89050602,  97.92930768,  97.96739738,  98.00460429,\n",
              "        98.04144052,  98.07756749,  98.11251615,  98.14651996,\n",
              "        98.18005091,  98.21342537,  98.24595702,  98.27764511,\n",
              "        98.30854423,  98.33896783,  98.36936297,  98.39908864,\n",
              "        98.4277808 ,  98.4559965 ,  98.48384273,  98.51067945,\n",
              "        98.53682244,  98.56268529,  98.58784611,  98.61238009,\n",
              "        98.63678912,  98.66088757,  98.68469738,  98.70825969,\n",
              "        98.73131188,  98.75383786,  98.77594293,  98.79759729,\n",
              "        98.81901462,  98.83999843,  98.86055866,  98.88092258,\n",
              "        98.90107683,  98.92086395,  98.93935256,  98.95782573,\n",
              "        98.97592309,  98.99377295,  99.0111463 ,  99.02774886,\n",
              "        99.04411986,  99.06025925,  99.07618663,  99.09161424,\n",
              "        99.10681435,  99.12175419,  99.13654437,  99.1509486 ,\n",
              "        99.16528493,  99.17937703,  99.19279023,  99.20616413,\n",
              "        99.21942187,  99.23233147,  99.24502981,  99.25761179,\n",
              "        99.26981292,  99.28179793,  99.293588  ,  99.30528774,\n",
              "        99.31678649,  99.32814606,  99.33939334,  99.35047564,\n",
              "        99.36135757,  99.37220942,  99.38263244,  99.39296847,\n",
              "        99.4031227 ,  99.41303064,  99.4228284 ,  99.43237414,\n",
              "        99.44179376,  99.45092828,  99.46004743,  99.46906758,\n",
              "        99.47799511,  99.48677805,  99.4953349 ,  99.50377202,\n",
              "        99.5119727 ,  99.52009006,  99.52804804,  99.5359125 ,\n",
              "        99.54370537,  99.55142206,  99.55905236,  99.56657287,\n",
              "        99.57393418,  99.5812487 ,  99.58843961,  99.59552731,\n",
              "        99.60248757,  99.60929511,  99.61596759,  99.6225637 ,\n",
              "        99.62904455,  99.63542251,  99.6416369 ,  99.64777852,\n",
              "        99.65388497,  99.65983129,  99.66560924,  99.67127579,\n",
              "        99.67689863,  99.68242304,  99.68786791,  99.69323093,\n",
              "        99.69851019,  99.70371011,  99.70881648,  99.71377675,\n",
              "        99.71869498,  99.72356409,  99.72837317,  99.73312913,\n",
              "        99.73773182,  99.74230336,  99.74683841,  99.75126739,\n",
              "        99.75565158,  99.75996518,  99.76426253,  99.76849842,\n",
              "        99.77268863,  99.77683367,  99.78092713,  99.7849077 ,\n",
              "        99.78882023,  99.79265966,  99.79648142,  99.80020198,\n",
              "        99.80382395,  99.80734029,  99.81081661,  99.8142377 ,\n",
              "        99.81765059,  99.82101905,  99.82433598,  99.82759869,\n",
              "        99.8308362 ,  99.83402153,  99.83718639,  99.84030227,\n",
              "        99.84333875,  99.84635763,  99.84929677,  99.8521777 ,\n",
              "        99.85499675,  99.8577914 ,  99.86054238,  99.86324753,\n",
              "        99.86592792,  99.86857196,  99.87116283,  99.87367476,\n",
              "        99.87614588,  99.87857158,  99.88097373,  99.8833371 ,\n",
              "        99.88569323,  99.88798294,  99.89020331,  99.89240481,\n",
              "        99.89456955,  99.89669164,  99.89878229,  99.9008244 ,\n",
              "        99.90285471,  99.90486106,  99.90682827,  99.90876191,\n",
              "        99.91065618,  99.91252648,  99.91436447,  99.91617358,\n",
              "        99.91796428,  99.91971099,  99.9214259 ,  99.92312463,\n",
              "        99.92481046,  99.92644218,  99.92806737,  99.92967366,\n",
              "        99.9312624 ,  99.93283843,  99.93439012,  99.93591738,\n",
              "        99.93742879,  99.93892202,  99.94039445,  99.94183434,\n",
              "        99.94325635,  99.9446592 ,  99.94604493,  99.94739453,\n",
              "        99.94871997,  99.95002375,  99.95129609,  99.95256009,\n",
              "        99.95381223,  99.95501968,  99.95616834,  99.95728653,\n",
              "        99.95837927,  99.95946198,  99.96053471,  99.96157632,\n",
              "        99.9626073 ,  99.96360556,  99.96459604,  99.96557434,\n",
              "        99.96653463,  99.96746641,  99.96838331,  99.96929141,\n",
              "        99.97017762,  99.9710451 ,  99.97189829,  99.97274936,\n",
              "        99.97357564,  99.97438824,  99.97515233,  99.97588805,\n",
              "        99.97662024,  99.97733619,  99.97803284,  99.97872615,\n",
              "        99.9794093 ,  99.98003781,  99.98064996,  99.98125159,\n",
              "        99.98184488,  99.98243192,  99.98300274,  99.98353805,\n",
              "        99.98406166,  99.98456499,  99.98506098,  99.98554962,\n",
              "        99.98600199,  99.98644405,  99.98687382,  99.98729799,\n",
              "        99.98770495,  99.98810546,  99.98849282,  99.98886779,\n",
              "        99.98923488,  99.9895889 ,  99.98993014,  99.99025948,\n",
              "        99.99057738,  99.99088865,  99.99119221,  99.99149219,\n",
              "        99.99178441,  99.99206662,  99.99234597,  99.99261871,\n",
              "        99.99288614,  99.99315221,  99.9934123 ,  99.99366097,\n",
              "        99.99390527,  99.99414171,  99.99436795,  99.99458754,\n",
              "        99.99480659,  99.99501499,  99.99520938,  99.99539943,\n",
              "        99.995581  ,  99.99575083,  99.99591393,  99.99607393,\n",
              "        99.99622893,  99.99638103,  99.99652682,  99.99666515,\n",
              "        99.99680215,  99.99693821,  99.99706626,  99.99719359,\n",
              "        99.99731976,  99.99744371,  99.99756431,  99.99768158,\n",
              "        99.99779397,  99.99790221,  99.99800901,  99.99810996,\n",
              "        99.99820794,  99.99830344,  99.99839559,  99.99848505,\n",
              "        99.99857102,  99.99865546,  99.99873732,  99.99881707,\n",
              "        99.99889378,  99.9989672 ,  99.99903991,  99.9991069 ,\n",
              "        99.9991705 ,  99.99923316,  99.99929398,  99.99935186,\n",
              "        99.99940801,  99.99946294,  99.99951287,  99.99956099,\n",
              "        99.99960821,  99.99965404,  99.99969731,  99.9997357 ,\n",
              "        99.99977241,  99.99980723,  99.99983611,  99.99985782,\n",
              "        99.99987946,  99.99989813,  99.9999145 ,  99.99992557,\n",
              "        99.99993583,  99.99994482,  99.99995256,  99.9999593 ,\n",
              "        99.99996564,  99.99997094,  99.9999746 ,  99.99997802,\n",
              "        99.99998123,  99.99998386,  99.99998607,  99.99998808,\n",
              "        99.99998987,  99.9999914 ,  99.9999927 ,  99.99999394,\n",
              "        99.99999496,  99.99999595,  99.99999688,  99.99999774,\n",
              "        99.99999846,  99.99999917,  99.99999966,  99.99999998,\n",
              "        99.99999999, 100.        , 100.        , 100.        ,\n",
              "       100.        , 100.        , 100.        , 100.        ,\n",
              "       100.        , 100.        , 100.        , 100.        ,\n",
              "       100.        , 100.        , 100.        , 100.        ,\n",
              "       100.        , 100.        , 100.        , 100.        ,\n",
              "       100.        , 100.        , 100.        , 100.        ,\n",
              "       100.        , 100.        , 100.        , 100.        ,\n",
              "       100.        , 100.        , 100.        , 100.        ,\n",
              "       100.        , 100.        , 100.        , 100.        ,\n",
              "       100.        , 100.        , 100.        , 100.        ,\n",
              "       100.        , 100.        , 100.        , 100.        ,\n",
              "       100.        , 100.        , 100.        , 100.        ,\n",
              "       100.        , 100.        , 100.        , 100.        ,\n",
              "       100.        , 100.        , 100.        , 100.        ,\n",
              "       100.        , 100.        , 100.        , 100.        ,\n",
              "       100.        , 100.        , 100.        , 100.        ,\n",
              "       100.        , 100.        , 100.        , 100.        ,\n",
              "       100.        , 100.        , 100.        , 100.        ,\n",
              "       100.        , 100.        , 100.        , 100.        ,\n",
              "       100.        , 100.        , 100.        , 100.        ,\n",
              "       100.        , 100.        , 100.        , 100.        ,\n",
              "       100.        , 100.        , 100.        , 100.        ,\n",
              "       100.        , 100.        , 100.        , 100.        ,\n",
              "       100.        , 100.        , 100.        , 100.        ,\n",
              "       100.        ])"
            ]
          },
          "metadata": {},
          "execution_count": 36
        }
      ]
    },
    {
      "cell_type": "markdown",
      "source": [
        "### Sem padronização"
      ],
      "metadata": {
        "id": "RC67xYzHfnvF"
      }
    },
    {
      "cell_type": "code",
      "source": [
        "# Número de componentes para explicar 90% da variância:\n",
        "n_components_90_pad"
      ],
      "metadata": {
        "colab": {
          "base_uri": "https://localhost:8080/"
        },
        "id": "nV7jzsKvfrIa",
        "outputId": "b9cad4a1-2c42-4711-bc63-430da314d09d"
      },
      "execution_count": 37,
      "outputs": [
        {
          "output_type": "execute_result",
          "data": {
            "text/plain": [
              "63"
            ]
          },
          "metadata": {},
          "execution_count": 37
        }
      ]
    },
    {
      "cell_type": "code",
      "source": [
        "# Variância explicada acumulada por componente:\n",
        "cumulative_variance_percent_pad"
      ],
      "metadata": {
        "colab": {
          "base_uri": "https://localhost:8080/"
        },
        "id": "xX5V3xfafvmc",
        "outputId": "ef236bac-7ec0-40fa-e70c-698053a9fda7"
      },
      "execution_count": 38,
      "outputs": [
        {
          "output_type": "execute_result",
          "data": {
            "text/plain": [
              "array([ 50.78117229,  57.36185256,  60.16828933,  62.67224208,\n",
              "        64.56052709,  66.28453351,  67.65554498,  68.85462266,\n",
              "        69.85048217,  70.81556876,  71.67562041,  72.47590136,\n",
              "        73.23989773,  73.88522665,  74.517551  ,  75.11727309,\n",
              "        75.70402339,  76.27943078,  76.84735183,  77.37464761,\n",
              "        77.87501053,  78.36341894,  78.84162472,  79.31018765,\n",
              "        79.75947691,  80.18050415,  80.59848284,  81.00405321,\n",
              "        81.39257737,  81.77959542,  82.1455543 ,  82.50010768,\n",
              "        82.84805028,  83.18523739,  83.51491439,  83.84312944,\n",
              "        84.16365892,  84.45927386,  84.74599627,  85.03107082,\n",
              "        85.29983714,  85.565457  ,  85.82886299,  86.08771359,\n",
              "        86.33676846,  86.58372249,  86.82440241,  87.06051748,\n",
              "        87.29079634,  87.51836358,  87.73852828,  87.95199527,\n",
              "        88.15969972,  88.36219634,  88.56197578,  88.75972641,\n",
              "        88.95400004,  89.1442372 ,  89.33230209,  89.51851806,\n",
              "        89.6999846 ,  89.87736559,  90.05345066,  90.22673457,\n",
              "        90.39747289,  90.56602096,  90.73163589,  90.89473834,\n",
              "        91.05317512,  91.21067266,  91.36369556,  91.51590081,\n",
              "        91.66403996,  91.81011144,  91.95478196,  92.0975357 ,\n",
              "        92.23619224,  92.37178394,  92.50648948,  92.63956764,\n",
              "        92.77038319,  92.90062393,  93.02885379,  93.15384859,\n",
              "        93.27682308,  93.39837604,  93.51754651,  93.63498301,\n",
              "        93.75026671,  93.86341416,  93.97400622,  94.08333289,\n",
              "        94.19125472,  94.29723833,  94.39995011,  94.50203655,\n",
              "        94.60275863,  94.70118604,  94.79766287,  94.89150399,\n",
              "        94.98384267,  95.0755822 ,  95.16547154,  95.2549711 ,\n",
              "        95.34248874,  95.42953542,  95.51538542,  95.59886433,\n",
              "        95.68162008,  95.76425561,  95.84540911,  95.92523638,\n",
              "        96.00251826,  96.07833964,  96.15339098,  96.22620461,\n",
              "        96.29801945,  96.36901614,  96.43880154,  96.50667205,\n",
              "        96.57310955,  96.63813651,  96.70212203,  96.76520166,\n",
              "        96.82734544,  96.88888439,  96.94912756,  97.00882719,\n",
              "        97.06711635,  97.12468178,  97.18113031,  97.23687747,\n",
              "        97.29143932,  97.34537344,  97.39830527,  97.45087669,\n",
              "        97.50239002,  97.55290753,  97.60312957,  97.65202019,\n",
              "        97.70051218,  97.74798068,  97.79493921,  97.84105109,\n",
              "        97.88708147,  97.93210643,  97.97637584,  98.02014069,\n",
              "        98.06311007,  98.10537333,  98.14699431,  98.18789744,\n",
              "        98.22861734,  98.26843261,  98.30721455,  98.34578524,\n",
              "        98.3837749 ,  98.42066839,  98.45694708,  98.49238811,\n",
              "        98.52716045,  98.56184842,  98.59536006,  98.62863062,\n",
              "        98.66123937,  98.69275156,  98.72300288,  98.75181864,\n",
              "        98.77916467,  98.80590209,  98.83183671,  98.85723154,\n",
              "        98.88191017,  98.90604835,  98.92994241,  98.95277843,\n",
              "        98.97536379,  98.99778796,  99.01926792,  99.04011501,\n",
              "        99.06060682,  99.08042376,  99.10010238,  99.11896648,\n",
              "        99.13721781,  99.1552328 ,  99.17272715,  99.18989303,\n",
              "        99.20668725,  99.22310617,  99.23871529,  99.25424508,\n",
              "        99.26910757,  99.28376218,  99.29812054,  99.31198228,\n",
              "        99.32565097,  99.33880615,  99.35127225,  99.36361129,\n",
              "        99.37569907,  99.38756107,  99.39908078,  99.41022136,\n",
              "        99.4210617 ,  99.43158402,  99.44189641,  99.4518223 ,\n",
              "        99.46170459,  99.47139914,  99.48092737,  99.49022712,\n",
              "        99.49932702,  99.50835366,  99.51729793,  99.52616004,\n",
              "        99.5349345 ,  99.54344154,  99.55165345,  99.55983527,\n",
              "        99.56789657,  99.57584265,  99.58366776,  99.59130465,\n",
              "        99.5988201 ,  99.60622218,  99.61340627,  99.62051093,\n",
              "        99.62753127,  99.63442622,  99.64123277,  99.64789941,\n",
              "        99.65441905,  99.660902  ,  99.66715499,  99.67332639,\n",
              "        99.6794176 ,  99.68537462,  99.691315  ,  99.69717389,\n",
              "        99.70293628,  99.70863984,  99.71425226,  99.71970909,\n",
              "        99.72502984,  99.73033449,  99.73550097,  99.74063847,\n",
              "        99.74563217,  99.7504996 ,  99.75529014,  99.76000317,\n",
              "        99.76462765,  99.76915229,  99.77356947,  99.77788212,\n",
              "        99.78213441,  99.78634128,  99.79040023,  99.79444866,\n",
              "        99.79844419,  99.80232319,  99.80618315,  99.8099833 ,\n",
              "        99.81373999,  99.8173716 ,  99.82093312,  99.82442801,\n",
              "        99.82789358,  99.83124669,  99.83455523,  99.83780985,\n",
              "        99.84102458,  99.84419966,  99.84730069,  99.85034431,\n",
              "        99.85328144,  99.85620171,  99.85908255,  99.86187885,\n",
              "        99.86467068,  99.86743305,  99.87011534,  99.87274022,\n",
              "        99.87533846,  99.87791127,  99.88043036,  99.88289752,\n",
              "        99.88532811,  99.88773981,  99.89012978,  99.89243001,\n",
              "        99.89472247,  99.89698178,  99.8992226 ,  99.90141042,\n",
              "        99.90356531,  99.90571764,  99.90780366,  99.90987615,\n",
              "        99.91189574,  99.9138652 ,  99.91581972,  99.91775257,\n",
              "        99.9196482 ,  99.92151751,  99.9233734 ,  99.92519583,\n",
              "        99.92699622,  99.9287602 ,  99.93048461,  99.93218775,\n",
              "        99.93382792,  99.93546228,  99.93706906,  99.93865459,\n",
              "        99.9402347 ,  99.94178085,  99.94330364,  99.94481927,\n",
              "        99.94630019,  99.94776973,  99.94919393,  99.95061537,\n",
              "        99.95198156,  99.95331955,  99.95462615,  99.95592174,\n",
              "        99.95718074,  99.95841538,  99.9596352 ,  99.96082299,\n",
              "        99.96197857,  99.96311486,  99.96422205,  99.96532027,\n",
              "        99.96637693,  99.96742116,  99.96844596,  99.96942877,\n",
              "        99.97039786,  99.97135149,  99.97228283,  99.97318742,\n",
              "        99.97406253,  99.97490073,  99.97571942,  99.9765345 ,\n",
              "        99.97732238,  99.97808781,  99.97883806,  99.97955546,\n",
              "        99.98024703,  99.98092026,  99.98157642,  99.98222859,\n",
              "        99.98285028,  99.98345311,  99.984049  ,  99.98463094,\n",
              "        99.98517702,  99.98571142,  99.98624392,  99.98674965,\n",
              "        99.98725068,  99.9877227 ,  99.9881872 ,  99.98863655,\n",
              "        99.98907383,  99.98948732,  99.98989796,  99.99029885,\n",
              "        99.99069234,  99.99107609,  99.99145087,  99.99181222,\n",
              "        99.99216302,  99.99251089,  99.99283912,  99.99315421,\n",
              "        99.99346228,  99.99375935,  99.99402873,  99.99428964,\n",
              "        99.99454762,  99.99479911,  99.99502824,  99.99525015,\n",
              "        99.99546383,  99.99566996,  99.99587483,  99.9960757 ,\n",
              "        99.99627031,  99.99645769,  99.99662178,  99.99677988,\n",
              "        99.99693191,  99.99707842,  99.99721422,  99.99734633,\n",
              "        99.99747688,  99.99760131,  99.99771901,  99.99783183,\n",
              "        99.99793953,  99.99804079,  99.99813745,  99.99823007,\n",
              "        99.99831958,  99.99840607,  99.99848776,  99.99856615,\n",
              "        99.99864126,  99.99871362,  99.9987846 ,  99.99885281,\n",
              "        99.99892024,  99.99898422,  99.99904607,  99.99910592,\n",
              "        99.99916402,  99.99922057,  99.9992747 ,  99.9993273 ,\n",
              "        99.99937613,  99.99942416,  99.99947055,  99.99951307,\n",
              "        99.99955407,  99.99959258,  99.99962955,  99.99966554,\n",
              "        99.9997012 ,  99.99973617,  99.99976712,  99.99979695,\n",
              "        99.99982433,  99.99985074,  99.99987644,  99.99989929,\n",
              "        99.99991999,  99.99994028,  99.99995481,  99.99996199,\n",
              "        99.99996657,  99.99997069,  99.99997417,  99.99997754,\n",
              "        99.99998025,  99.99998289,  99.99998516,  99.99998731,\n",
              "        99.99998936,  99.9999911 ,  99.99999275,  99.99999391,\n",
              "        99.99999505,  99.99999606,  99.99999699,  99.99999771,\n",
              "        99.99999838,  99.99999899,  99.99999954,  99.99999995,\n",
              "        99.99999997,  99.99999999, 100.        , 100.        ,\n",
              "       100.        , 100.        , 100.        , 100.        ,\n",
              "       100.        , 100.        , 100.        , 100.        ,\n",
              "       100.        , 100.        , 100.        , 100.        ,\n",
              "       100.        , 100.        , 100.        , 100.        ,\n",
              "       100.        , 100.        , 100.        , 100.        ,\n",
              "       100.        , 100.        , 100.        , 100.        ,\n",
              "       100.        , 100.        , 100.        , 100.        ,\n",
              "       100.        , 100.        , 100.        , 100.        ,\n",
              "       100.        , 100.        , 100.        , 100.        ,\n",
              "       100.        , 100.        , 100.        , 100.        ,\n",
              "       100.        , 100.        , 100.        , 100.        ,\n",
              "       100.        , 100.        , 100.        , 100.        ,\n",
              "       100.        , 100.        , 100.        , 100.        ,\n",
              "       100.        , 100.        , 100.        , 100.        ,\n",
              "       100.        , 100.        , 100.        , 100.        ,\n",
              "       100.        , 100.        , 100.        , 100.        ,\n",
              "       100.        , 100.        , 100.        , 100.        ,\n",
              "       100.        , 100.        , 100.        , 100.        ,\n",
              "       100.        , 100.        , 100.        , 100.        ,\n",
              "       100.        , 100.        , 100.        , 100.        ,\n",
              "       100.        , 100.        , 100.        , 100.        ,\n",
              "       100.        , 100.        , 100.        , 100.        ,\n",
              "       100.        , 100.        , 100.        , 100.        ,\n",
              "       100.        ])"
            ]
          },
          "metadata": {},
          "execution_count": 38
        }
      ]
    },
    {
      "cell_type": "markdown",
      "metadata": {
        "id": "7mn9wMUbGHX7"
      },
      "source": [
        "## Árvore com PCA\n",
        "\n",
        "Faça duas uma árvore de decisão com 10 componentes principais - uma com base em dados padronizados e outra sem padronizar. Utilize o ```ccp_alpha=0.001```.\n",
        "\n",
        "Compare a acurácia na base de treino e teste."
      ]
    },
    {
      "cell_type": "code",
      "source": [
        "pca = PCA(n_components=10)\n",
        "X_train_pca = pca.fit_transform(X_train)\n",
        "X_test_pca = pca.transform(X_test)\n",
        "\n",
        "X_train_pca_pad = pca.fit_transform(X_train_pad)\n",
        "X_test_pca_pad = pca.fit_transform(X_test_pad)"
      ],
      "metadata": {
        "id": "1nRhRbURgAYr"
      },
      "execution_count": 46,
      "outputs": []
    },
    {
      "cell_type": "markdown",
      "source": [
        "### Com padronização"
      ],
      "metadata": {
        "id": "Hf1nWfQSgND7"
      }
    },
    {
      "cell_type": "code",
      "execution_count": 40,
      "metadata": {
        "colab": {
          "base_uri": "https://localhost:8080/"
        },
        "id": "-ucAFvo0GHX7",
        "outputId": "2d8dedab-1641-417a-a4a6-fbe4c928d56c"
      },
      "outputs": [
        {
          "output_type": "stream",
          "name": "stdout",
          "text": [
            "CPU times: user 166 ms, sys: 138 µs, total: 166 ms\n",
            "Wall time: 429 ms\n"
          ]
        }
      ],
      "source": [
        "%%time\n",
        "tree_standard = DecisionTreeClassifier(ccp_alpha=0.001)\n",
        "tree_standard.fit(X_train_pca, y_train)\n",
        "y_train_pred_standard = tree_standard.predict(X_train_pca)\n",
        "y_test_pred_standard = tree_standard.predict(X_test_pca)"
      ]
    },
    {
      "cell_type": "code",
      "source": [
        "accuracy_train_standard = accuracy_score(y_train, y_train_pred_standard)\n",
        "accuracy_test_standard = accuracy_score(y_test, y_test_pred_standard)"
      ],
      "metadata": {
        "id": "J-jrm_IwgDmj"
      },
      "execution_count": 41,
      "outputs": []
    },
    {
      "cell_type": "markdown",
      "source": [
        "### Sem padronização"
      ],
      "metadata": {
        "id": "q35s2nmagWX0"
      }
    },
    {
      "cell_type": "code",
      "source": [
        "tree_non_standard = DecisionTreeClassifier(ccp_alpha=0.001)\n",
        "tree_non_standard.fit(X_train_pca_pad, y_train)\n",
        "y_train_pred_non_standard = tree_non_standard.predict(X_train_pca_pad)\n",
        "y_test_pred_non_standard = tree_non_standard.predict(X_test_pca_pad)"
      ],
      "metadata": {
        "id": "q5YAQQzAgXXj"
      },
      "execution_count": 47,
      "outputs": []
    },
    {
      "cell_type": "code",
      "source": [
        "accuracy_train_non_standard = accuracy_score(y_train, y_train_pred_non_standard)\n",
        "accuracy_test_non_standard = accuracy_score(y_test, y_test_pred_non_standard)"
      ],
      "metadata": {
        "id": "ayCgdqfGgafS"
      },
      "execution_count": 48,
      "outputs": []
    },
    {
      "cell_type": "code",
      "source": [
        "print(\"Acurácia na base de treino com dados padronizados:\", accuracy_train_standard)\n",
        "print(\"Acurácia na base de teste com dados padronizados:\", accuracy_test_standard)\n",
        "print(\"Acurácia na base de treino sem padronização:\", accuracy_train_non_standard)\n",
        "print(\"Acurácia na base de teste sem padronização:\", accuracy_test_non_standard)"
      ],
      "metadata": {
        "colab": {
          "base_uri": "https://localhost:8080/"
        },
        "id": "a8BPzQnHgbGy",
        "outputId": "e35f65ba-1809-45ce-a254-f9c95c4820e7"
      },
      "execution_count": 49,
      "outputs": [
        {
          "output_type": "stream",
          "name": "stdout",
          "text": [
            "Acurácia na base de treino com dados padronizados: 0.8930903155603918\n",
            "Acurácia na base de teste com dados padronizados: 0.8143875127248049\n",
            "Acurácia na base de treino sem padronização: 0.8596300326441785\n",
            "Acurácia na base de teste sem padronização: 0.3128605361384459\n"
          ]
        }
      ]
    }
  ],
  "metadata": {
    "kernelspec": {
      "display_name": "Python 3",
      "language": "python",
      "name": "python3"
    },
    "language_info": {
      "codemirror_mode": {
        "name": "ipython",
        "version": 3
      },
      "file_extension": ".py",
      "mimetype": "text/x-python",
      "name": "python",
      "nbconvert_exporter": "python",
      "pygments_lexer": "ipython3",
      "version": "3.8.5"
    },
    "toc": {
      "base_numbering": 1,
      "nav_menu": {},
      "number_sections": true,
      "sideBar": true,
      "skip_h1_title": true,
      "title_cell": "Índice",
      "title_sidebar": "Conteúdo",
      "toc_cell": false,
      "toc_position": {},
      "toc_section_display": true,
      "toc_window_display": false
    },
    "varInspector": {
      "cols": {
        "lenName": 16,
        "lenType": 16,
        "lenVar": 40
      },
      "kernels_config": {
        "python": {
          "delete_cmd_postfix": "",
          "delete_cmd_prefix": "del ",
          "library": "var_list.py",
          "varRefreshCmd": "print(var_dic_list())"
        },
        "r": {
          "delete_cmd_postfix": ") ",
          "delete_cmd_prefix": "rm(",
          "library": "var_list.r",
          "varRefreshCmd": "cat(var_dic_list()) "
        }
      },
      "types_to_exclude": [
        "module",
        "function",
        "builtin_function_or_method",
        "instance",
        "_Feature"
      ],
      "window_display": false
    },
    "colab": {
      "provenance": []
    }
  },
  "nbformat": 4,
  "nbformat_minor": 0
}