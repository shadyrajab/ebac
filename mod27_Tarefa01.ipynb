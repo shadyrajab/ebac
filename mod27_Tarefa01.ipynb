{
  "cells": [
    {
      "cell_type": "markdown",
      "metadata": {
        "id": "Y5YJ57oHljXb"
      },
      "source": [
        "# PCA - Tarefa 01: *HAR* com PCA\n",
        "\n",
        "Vamos trabalhar com a base da demonstração feita em aula, mas vamos explorar um pouco melhor como é o desempenho da árvore variando o número de componentes principais."
      ]
    },
    {
      "cell_type": "code",
      "execution_count": 108,
      "metadata": {
        "id": "NmXptOkFljXd"
      },
      "outputs": [],
      "source": [
        "import pandas as pd\n",
        "\n",
        "from sklearn.tree import DecisionTreeClassifier\n",
        "import time\n",
        "from sklearn.decomposition import PCA\n",
        "from sklearn.metrics import accuracy_score\n",
        "from sklearn.model_selection import cross_val_score\n",
        "from sklearn.model_selection import GridSearchCV\n",
        "from sklearn.model_selection import train_test_split\n",
        "\n",
        "filename_features = \"/content/features.txt\"\n",
        "filename_labels = \"/content/activity_labels.txt\"\n",
        "\n",
        "filename_subtrain = \"/content/subject_train.txt\"\n",
        "filename_xtrain = \"/content/X_train.txt\"\n",
        "filename_ytrain = \"/content/y_train.txt\"\n",
        "\n",
        "filename_subtest = \"/content/subject_test.txt\"\n",
        "ffilename_xtest = \"/content/X_test.txt\"\n",
        "filename_ytest = \"/content/y_test.txt\"\n",
        "\n",
        "features = pd.read_csv(filename_features, header=None, names=['nome_var'], sep=\"#\")\n",
        "labels = pd.read_csv(filename_labels, delim_whitespace=True, header=None, names=['cod_label', 'label'])\n",
        "\n",
        "subject_train = pd.read_csv(filename_subtrain, header=None, names=['subject_id'])\n",
        "X_train = pd.read_csv(filename_xtrain, delim_whitespace=True, header=None, names=features['nome_var'])\n",
        "y_train = pd.read_csv(filename_ytrain, header=None, names=['cod_label'])\n",
        "\n",
        "subject_test = pd.read_csv(filename_subtest, header=None, names=['subject_id'])\n",
        "X_test = pd.read_csv(ffilename_xtest, delim_whitespace=True, header=None, names=features['nome_var'])\n",
        "y_test = pd.read_csv(filename_ytest, header=None, names=['cod_label'])"
      ]
    },
    {
      "cell_type": "code",
      "source": [
        "df1 = pd.concat([X_train, X_test])\n",
        "df2 = pd.concat([y_train, y_test[0:1869]])"
      ],
      "metadata": {
        "id": "Av20hNrEPL3f"
      },
      "execution_count": 109,
      "outputs": []
    },
    {
      "cell_type": "code",
      "source": [
        "df1['cod_label'] = df2['cod_label']"
      ],
      "metadata": {
        "id": "2j_Z8RopRYHN"
      },
      "execution_count": 110,
      "outputs": []
    },
    {
      "cell_type": "code",
      "source": [
        "df1.dropna(inplace=True)\n",
        "X = df1.drop(columns='cod_label')\n",
        "y = df1['cod_label']"
      ],
      "metadata": {
        "id": "LZr9wI-LRkF0"
      },
      "execution_count": 111,
      "outputs": []
    },
    {
      "cell_type": "code",
      "source": [
        "X_train, X_test, y_train, y_test = train_test_split(X, y, test_size=0.2, random_state=42)"
      ],
      "metadata": {
        "id": "I3k3m-kZRNy1"
      },
      "execution_count": 112,
      "outputs": []
    },
    {
      "cell_type": "markdown",
      "metadata": {
        "id": "81c_k_-lljXe"
      },
      "source": [
        "## Árvore de decisão\n",
        "\n",
        "Rode uma árvore de decisão com todas as variáveis, utilizando o ```ccp_alpha=0.001```. Avalie a acurácia nas bases de treinamento e teste. Avalie o tempo de processamento."
      ]
    },
    {
      "cell_type": "code",
      "execution_count": 113,
      "metadata": {
        "id": "EmuEUC5DljXf",
        "colab": {
          "base_uri": "https://localhost:8080/",
          "height": 109
        },
        "outputId": "3b553db8-e689-4b1b-eec3-185dbd5b751d"
      },
      "outputs": [
        {
          "output_type": "stream",
          "name": "stdout",
          "text": [
            "CPU times: user 6.15 s, sys: 2.29 ms, total: 6.15 s\n",
            "Wall time: 7.12 s\n"
          ]
        },
        {
          "output_type": "execute_result",
          "data": {
            "text/plain": [
              "DecisionTreeClassifier(ccp_alpha=0.001)"
            ],
            "text/html": [
              "<style>#sk-container-id-8 {color: black;background-color: white;}#sk-container-id-8 pre{padding: 0;}#sk-container-id-8 div.sk-toggleable {background-color: white;}#sk-container-id-8 label.sk-toggleable__label {cursor: pointer;display: block;width: 100%;margin-bottom: 0;padding: 0.3em;box-sizing: border-box;text-align: center;}#sk-container-id-8 label.sk-toggleable__label-arrow:before {content: \"▸\";float: left;margin-right: 0.25em;color: #696969;}#sk-container-id-8 label.sk-toggleable__label-arrow:hover:before {color: black;}#sk-container-id-8 div.sk-estimator:hover label.sk-toggleable__label-arrow:before {color: black;}#sk-container-id-8 div.sk-toggleable__content {max-height: 0;max-width: 0;overflow: hidden;text-align: left;background-color: #f0f8ff;}#sk-container-id-8 div.sk-toggleable__content pre {margin: 0.2em;color: black;border-radius: 0.25em;background-color: #f0f8ff;}#sk-container-id-8 input.sk-toggleable__control:checked~div.sk-toggleable__content {max-height: 200px;max-width: 100%;overflow: auto;}#sk-container-id-8 input.sk-toggleable__control:checked~label.sk-toggleable__label-arrow:before {content: \"▾\";}#sk-container-id-8 div.sk-estimator input.sk-toggleable__control:checked~label.sk-toggleable__label {background-color: #d4ebff;}#sk-container-id-8 div.sk-label input.sk-toggleable__control:checked~label.sk-toggleable__label {background-color: #d4ebff;}#sk-container-id-8 input.sk-hidden--visually {border: 0;clip: rect(1px 1px 1px 1px);clip: rect(1px, 1px, 1px, 1px);height: 1px;margin: -1px;overflow: hidden;padding: 0;position: absolute;width: 1px;}#sk-container-id-8 div.sk-estimator {font-family: monospace;background-color: #f0f8ff;border: 1px dotted black;border-radius: 0.25em;box-sizing: border-box;margin-bottom: 0.5em;}#sk-container-id-8 div.sk-estimator:hover {background-color: #d4ebff;}#sk-container-id-8 div.sk-parallel-item::after {content: \"\";width: 100%;border-bottom: 1px solid gray;flex-grow: 1;}#sk-container-id-8 div.sk-label:hover label.sk-toggleable__label {background-color: #d4ebff;}#sk-container-id-8 div.sk-serial::before {content: \"\";position: absolute;border-left: 1px solid gray;box-sizing: border-box;top: 0;bottom: 0;left: 50%;z-index: 0;}#sk-container-id-8 div.sk-serial {display: flex;flex-direction: column;align-items: center;background-color: white;padding-right: 0.2em;padding-left: 0.2em;position: relative;}#sk-container-id-8 div.sk-item {position: relative;z-index: 1;}#sk-container-id-8 div.sk-parallel {display: flex;align-items: stretch;justify-content: center;background-color: white;position: relative;}#sk-container-id-8 div.sk-item::before, #sk-container-id-8 div.sk-parallel-item::before {content: \"\";position: absolute;border-left: 1px solid gray;box-sizing: border-box;top: 0;bottom: 0;left: 50%;z-index: -1;}#sk-container-id-8 div.sk-parallel-item {display: flex;flex-direction: column;z-index: 1;position: relative;background-color: white;}#sk-container-id-8 div.sk-parallel-item:first-child::after {align-self: flex-end;width: 50%;}#sk-container-id-8 div.sk-parallel-item:last-child::after {align-self: flex-start;width: 50%;}#sk-container-id-8 div.sk-parallel-item:only-child::after {width: 0;}#sk-container-id-8 div.sk-dashed-wrapped {border: 1px dashed gray;margin: 0 0.4em 0.5em 0.4em;box-sizing: border-box;padding-bottom: 0.4em;background-color: white;}#sk-container-id-8 div.sk-label label {font-family: monospace;font-weight: bold;display: inline-block;line-height: 1.2em;}#sk-container-id-8 div.sk-label-container {text-align: center;}#sk-container-id-8 div.sk-container {/* jupyter's `normalize.less` sets `[hidden] { display: none; }` but bootstrap.min.css set `[hidden] { display: none !important; }` so we also need the `!important` here to be able to override the default hidden behavior on the sphinx rendered scikit-learn.org. See: https://github.com/scikit-learn/scikit-learn/issues/21755 */display: inline-block !important;position: relative;}#sk-container-id-8 div.sk-text-repr-fallback {display: none;}</style><div id=\"sk-container-id-8\" class=\"sk-top-container\"><div class=\"sk-text-repr-fallback\"><pre>DecisionTreeClassifier(ccp_alpha=0.001)</pre><b>In a Jupyter environment, please rerun this cell to show the HTML representation or trust the notebook. <br />On GitHub, the HTML representation is unable to render, please try loading this page with nbviewer.org.</b></div><div class=\"sk-container\" hidden><div class=\"sk-item\"><div class=\"sk-estimator sk-toggleable\"><input class=\"sk-toggleable__control sk-hidden--visually\" id=\"sk-estimator-id-8\" type=\"checkbox\" checked><label for=\"sk-estimator-id-8\" class=\"sk-toggleable__label sk-toggleable__label-arrow\">DecisionTreeClassifier</label><div class=\"sk-toggleable__content\"><pre>DecisionTreeClassifier(ccp_alpha=0.001)</pre></div></div></div></div></div>"
            ]
          },
          "metadata": {},
          "execution_count": 113
        }
      ],
      "source": [
        "%%time\n",
        "clf = DecisionTreeClassifier(ccp_alpha=0.001)\n",
        "clf.fit(X_train, y_train)"
      ]
    },
    {
      "cell_type": "code",
      "source": [
        "%%time\n",
        "y_train_pred = clf.predict(X_train)\n",
        "y_test_pred = clf.predict(X_test)"
      ],
      "metadata": {
        "colab": {
          "base_uri": "https://localhost:8080/"
        },
        "id": "XWGq2uNGPG3e",
        "outputId": "5a99ae3c-c7e7-435d-90a4-785e316bff11"
      },
      "execution_count": 114,
      "outputs": [
        {
          "output_type": "stream",
          "name": "stdout",
          "text": [
            "CPU times: user 25.6 ms, sys: 96 µs, total: 25.7 ms\n",
            "Wall time: 26.5 ms\n"
          ]
        }
      ]
    },
    {
      "cell_type": "code",
      "source": [
        "%%time\n",
        "train_accuracy = accuracy_score(y_train, y_train_pred)\n",
        "test_accuracy = accuracy_score(y_test, y_test_pred)\n",
        "\n",
        "print(\"Acurácia na base de treinamento:\", train_accuracy)\n",
        "print(\"Acurácia na base de teste:\", test_accuracy)"
      ],
      "metadata": {
        "colab": {
          "base_uri": "https://localhost:8080/"
        },
        "id": "FRcf4xcgPQac",
        "outputId": "84b58e60-5520-46ea-bf90-bd2b43224668"
      },
      "execution_count": 115,
      "outputs": [
        {
          "output_type": "stream",
          "name": "stdout",
          "text": [
            "Acurácia na base de treinamento: 0.967326464208243\n",
            "Acurácia na base de teste: 0.9343817787418656\n",
            "CPU times: user 4.9 ms, sys: 933 µs, total: 5.84 ms\n",
            "Wall time: 6.26 ms\n"
          ]
        }
      ]
    },
    {
      "cell_type": "markdown",
      "metadata": {
        "id": "ZNUbspwBljXf"
      },
      "source": [
        "## Árvore com PCA\n",
        "\n",
        "Faça uma análise de componemtes principais das variáveis originais. Utilize apenas uma componente. Faça uma árvore de decisão com esta componente como variável explicativa.\n",
        "\n",
        "- Avalie a acurácia nas bases de treinamento e teste\n",
        "- Avalie o tempo de processamento"
      ]
    },
    {
      "cell_type": "code",
      "source": [
        "def train_pca(n_components):\n",
        "    pca = PCA(n_components=n_components)\n",
        "    X_train_pca = pca.fit_transform(X_train)\n",
        "    X_test_pca = pca.transform(X_test)\n",
        "\n",
        "    start_time = time.time()\n",
        "    clf = DecisionTreeClassifier(ccp_alpha=0.001)\n",
        "    clf.fit(X_train_pca, y_train)\n",
        "    training_time = time.time() - start_time\n",
        "\n",
        "    y_train_pred = clf.predict(X_train_pca)\n",
        "    y_test_pred = clf.predict(X_test_pca)\n",
        "\n",
        "    train_accuracy = accuracy_score(y_train, y_train_pred)\n",
        "    test_accuracy = accuracy_score(y_test, y_test_pred)\n",
        "\n",
        "    return train_accuracy, test_accuracy, training_time"
      ],
      "metadata": {
        "id": "9LLea1bsUnWu"
      },
      "execution_count": 116,
      "outputs": []
    },
    {
      "cell_type": "code",
      "execution_count": 117,
      "metadata": {
        "id": "AIdl3AYlljXg",
        "colab": {
          "base_uri": "https://localhost:8080/",
          "height": 124
        },
        "outputId": "3a70d521-df50-4dde-a20f-d7adcd99ea47"
      },
      "outputs": [
        {
          "output_type": "error",
          "ename": "ValueError",
          "evalue": "too many values to unpack (expected 2)",
          "traceback": [
            "\u001b[0;31m---------------------------------------------------------------------------\u001b[0m",
            "\u001b[0;31mValueError\u001b[0m                                Traceback (most recent call last)",
            "\u001b[0;32m<timed exec>\u001b[0m in \u001b[0;36m<module>\u001b[0;34m\u001b[0m\n",
            "\u001b[0;31mValueError\u001b[0m: too many values to unpack (expected 2)"
          ]
        }
      ],
      "source": [
        "%%time\n",
        "train_accuracy, test_accuracy = train_pca(1)\n",
        "print(\"Acurácia na base de treinamento:\", train_accuracy)\n",
        "print(\"Acurácia na base de teste:\", test_accuracy)"
      ]
    },
    {
      "cell_type": "markdown",
      "metadata": {
        "id": "JjR16eGoljXi"
      },
      "source": [
        "## Testando o número de componentes\n",
        "\n",
        "Com base no código acima, teste a árvore de classificação com pelo menos as seguintes possibilidades de quantidades de componentes: ```[1, 2, 5, 10, 50]```. Avalie para cada uma delas:\n",
        "\n",
        "- Acurácia nas bases de treino e teste\n",
        "- Tempo de processamento\n"
      ]
    },
    {
      "cell_type": "code",
      "execution_count": 118,
      "metadata": {
        "id": "iK2hEqdWljXj",
        "colab": {
          "base_uri": "https://localhost:8080/"
        },
        "outputId": "ba647263-a16a-494d-8862-9685cb482b3d"
      },
      "outputs": [
        {
          "output_type": "stream",
          "name": "stdout",
          "text": [
            "CPU times: user 4.38 s, sys: 2.11 s, total: 6.48 s\n",
            "Wall time: 3.74 s\n"
          ]
        }
      ],
      "source": [
        "%%time\n",
        "results = []\n",
        "for n in [1, 2, 5, 10, 50]:\n",
        "  train_accuracy, test_accuracy, training_time = train_pca(n)\n",
        "  results.append({\n",
        "      'n_components': n,\n",
        "      'train_accuracy': train_accuracy,\n",
        "      'test_accuracy': test_accuracy,\n",
        "      'training_time': training_time\n",
        "  })"
      ]
    },
    {
      "cell_type": "code",
      "source": [
        "for result in results:\n",
        "    print(f\"Componentes: {result['n_components']}\")\n",
        "    print(f\"Acurácia na base de treinamento: {result['train_accuracy']:.4f}\")\n",
        "    print(f\"Acurácia na base de teste: {result['test_accuracy']:.4f}\")\n",
        "    print(f\"Tempo de treinamento: {result['training_time']:.4f} segundos\")\n",
        "    print(\"-\" * 30)"
      ],
      "metadata": {
        "colab": {
          "base_uri": "https://localhost:8080/"
        },
        "id": "9-hAb8FmVPwf",
        "outputId": "08b919c2-fb0b-4f64-e5eb-b12758268f6b"
      },
      "execution_count": 119,
      "outputs": [
        {
          "output_type": "stream",
          "name": "stdout",
          "text": [
            "Componentes: 1\n",
            "Acurácia na base de treinamento: 0.4966\n",
            "Acurácia na base de teste: 0.5076\n",
            "Tempo de treinamento: 0.1066 segundos\n",
            "------------------------------\n",
            "Componentes: 2\n",
            "Acurácia na base de treinamento: 0.6245\n",
            "Acurácia na base de teste: 0.6242\n",
            "Tempo de treinamento: 0.0815 segundos\n",
            "------------------------------\n",
            "Componentes: 5\n",
            "Acurácia na base de treinamento: 0.8320\n",
            "Acurácia na base de teste: 0.8292\n",
            "Tempo de treinamento: 0.0793 segundos\n",
            "------------------------------\n",
            "Componentes: 10\n",
            "Acurácia na base de treinamento: 0.8772\n",
            "Acurácia na base de teste: 0.8427\n",
            "Tempo de treinamento: 0.1682 segundos\n",
            "------------------------------\n",
            "Componentes: 50\n",
            "Acurácia na base de treinamento: 0.9094\n",
            "Acurácia na base de teste: 0.8595\n",
            "Tempo de treinamento: 0.6374 segundos\n",
            "------------------------------\n"
          ]
        }
      ]
    },
    {
      "cell_type": "markdown",
      "metadata": {
        "id": "T9tIZyG7ljXk"
      },
      "source": [
        "## Conclua\n",
        "\n",
        "- O que aconteceu com a acurácia?\n",
        "- O que aconteceu com o tempo de processamento?"
      ]
    },
    {
      "cell_type": "code",
      "execution_count": 120,
      "metadata": {
        "id": "t6DqVGeZljXk"
      },
      "outputs": [],
      "source": [
        "# A acurácia aumentou conforme o número de componentes aumenta, porém o tempo de treinamento aumenta proporcionalmente"
      ]
    },
    {
      "cell_type": "code",
      "source": [],
      "metadata": {
        "id": "y-_eDZwkV2TV"
      },
      "execution_count": null,
      "outputs": []
    }
  ],
  "metadata": {
    "kernelspec": {
      "display_name": "Python 3",
      "language": "python",
      "name": "python3"
    },
    "language_info": {
      "codemirror_mode": {
        "name": "ipython",
        "version": 3
      },
      "file_extension": ".py",
      "mimetype": "text/x-python",
      "name": "python",
      "nbconvert_exporter": "python",
      "pygments_lexer": "ipython3",
      "version": "3.8.5"
    },
    "toc": {
      "base_numbering": 1,
      "nav_menu": {},
      "number_sections": true,
      "sideBar": true,
      "skip_h1_title": true,
      "title_cell": "Índice",
      "title_sidebar": "Conteúdo",
      "toc_cell": false,
      "toc_position": {},
      "toc_section_display": true,
      "toc_window_display": false
    },
    "varInspector": {
      "cols": {
        "lenName": 16,
        "lenType": 16,
        "lenVar": 40
      },
      "kernels_config": {
        "python": {
          "delete_cmd_postfix": "",
          "delete_cmd_prefix": "del ",
          "library": "var_list.py",
          "varRefreshCmd": "print(var_dic_list())"
        },
        "r": {
          "delete_cmd_postfix": ") ",
          "delete_cmd_prefix": "rm(",
          "library": "var_list.r",
          "varRefreshCmd": "cat(var_dic_list()) "
        }
      },
      "types_to_exclude": [
        "module",
        "function",
        "builtin_function_or_method",
        "instance",
        "_Feature"
      ],
      "window_display": false
    },
    "colab": {
      "provenance": []
    }
  },
  "nbformat": 4,
  "nbformat_minor": 0
}