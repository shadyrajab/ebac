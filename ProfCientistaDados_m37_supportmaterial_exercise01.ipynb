{
  "cells": [
    {
      "cell_type": "markdown",
      "metadata": {
        "id": "6ClIB-eeGRz5"
      },
      "source": [
        "\n",
        "# Tarefa I"
      ]
    },
    {
      "cell_type": "markdown",
      "metadata": {
        "id": "2G4m5JvgGRz9"
      },
      "source": [
        "1. Qual a principal diferença entre um *behaviour score* e um *credit score*?"
      ]
    },
    {
      "cell_type": "markdown",
      "metadata": {
        "id": "L5CLohjGGRz-"
      },
      "source": [
        "*O credit score avalia o histórico de crédito para prever a probabilidade de pagamento de dívidas, usado principalmente para decisões de concessão de crédito. O behaviour score analisa o comportamento financeiro atual do cliente, sendo dinâmico e aplicado no gerenciamento de relacionamento com clientes existentes, ajudando em decisões como aumento de limite de crédito e detecção de fraudes.*"
      ]
    },
    {
      "cell_type": "markdown",
      "metadata": {
        "id": "JnI7mIU7GRz-"
      },
      "source": [
        "2. Por que é tão comum se estabelecer janelas de desempenho de 12 meses, e 12 safras para o desenvolvimento de modelos?"
      ]
    },
    {
      "cell_type": "markdown",
      "metadata": {
        "id": "lhRcdJXoGRz_"
      },
      "source": [
        "*Estabelecer janelas de desempenho de 12 meses ou 12 safras é comum devido à sazonalidade e ciclos anuais. Esses períodos oferecem uma visão do comportamento dos dados ao longo de um ciclo completo, permitindo a construção e avaliação de modelos que capturam padrões e tendências de longo prazo.*"
      ]
    },
    {
      "cell_type": "markdown",
      "metadata": {
        "id": "wtCTvxPiGRz_"
      },
      "source": [
        "3. Qual a diferença entre amostra *out of time* e amostra *out of sample*?"
      ]
    },
    {
      "cell_type": "markdown",
      "metadata": {
        "id": "QI6h6zikGR0A"
      },
      "source": [
        "*A amostra out of time valida modelos em dados futuros, testando sua capacidade de generalização ao longo do tempo. A amostra out of sample valida modelos em dados não utilizados no treinamento, garantindo uma avaliação imparcial do desempenho em dados independentes.*"
      ]
    },
    {
      "cell_type": "markdown",
      "metadata": {
        "id": "zEJTiAP4GR0C"
      },
      "source": [
        "4. Se os dados da variavel resposta estão sistematicamente corrompidos para duas das safras de desenvolvimento, o que você faria?"
      ]
    },
    {
      "cell_type": "markdown",
      "metadata": {
        "id": "6KKddZ5RGR0D"
      },
      "source": [
        "*Eu tentaria corrigir os dados usando métodos de imputação ou os removeria, avaliaria o impacto nas análises e depois recriaria o modelo com os dados novos.*"
      ]
    }
  ],
  "metadata": {
    "kernelspec": {
      "display_name": "Python 3",
      "language": "python",
      "name": "python3"
    },
    "language_info": {
      "codemirror_mode": {
        "name": "ipython",
        "version": 3
      },
      "file_extension": ".py",
      "mimetype": "text/x-python",
      "name": "python",
      "nbconvert_exporter": "python",
      "pygments_lexer": "ipython3",
      "version": "3.8.5"
    },
    "toc": {
      "base_numbering": 1,
      "nav_menu": {},
      "number_sections": false,
      "sideBar": true,
      "skip_h1_title": true,
      "title_cell": "Índice",
      "title_sidebar": "Conteúdo",
      "toc_cell": false,
      "toc_position": {},
      "toc_section_display": true,
      "toc_window_display": false
    },
    "varInspector": {
      "cols": {
        "lenName": 16,
        "lenType": 16,
        "lenVar": 40
      },
      "kernels_config": {
        "python": {
          "delete_cmd_postfix": "",
          "delete_cmd_prefix": "del ",
          "library": "var_list.py",
          "varRefreshCmd": "print(var_dic_list())"
        },
        "r": {
          "delete_cmd_postfix": ") ",
          "delete_cmd_prefix": "rm(",
          "library": "var_list.r",
          "varRefreshCmd": "cat(var_dic_list()) "
        }
      },
      "types_to_exclude": [
        "module",
        "function",
        "builtin_function_or_method",
        "instance",
        "_Feature"
      ],
      "window_display": false
    },
    "colab": {
      "provenance": []
    }
  },
  "nbformat": 4,
  "nbformat_minor": 0
}